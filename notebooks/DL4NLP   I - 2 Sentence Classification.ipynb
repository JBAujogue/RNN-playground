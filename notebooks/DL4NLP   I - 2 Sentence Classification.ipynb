{
 "cells": [
  {
   "cell_type": "markdown",
   "metadata": {},
   "source": [
    "<div style=\"font-variant: small-caps; \n",
    "      font-weight: normal; \n",
    "      font-size: 30px; \n",
    "      text-align: center; \n",
    "      padding: 15px; \n",
    "      margin: 10px;\">\n",
    "  Deep Learning for NLP\n",
    "  </div> \n",
    "  \n",
    "<div style=\"font-variant: small-caps; \n",
    "      font-weight: normal; \n",
    "      font-size: 30px; \n",
    "      text-align: center; \n",
    "      padding: 15px; \n",
    "      margin: 10px;\">\n",
    "    <font color=orange>I - 2 </font>\n",
    "  Sentence Classification\n",
    "  </div> \n",
    "\n",
    "  <div style=\"font-variant: small-caps; \n",
    "      font-weight: normal; \n",
    "      font-size: 20px; \n",
    "      text-align: center; \n",
    "      padding: 15px;\">\n",
    "  </div> \n",
    "\n",
    "  <div style=\" float:right; \n",
    "      font-size: 12px; \n",
    "      line-height: 12px; \n",
    "  padding: 10px 15px 8px;\">\n",
    "  Jean-baptiste AUJOGUE\n",
    "  </div> "
   ]
  },
  {
   "cell_type": "markdown",
   "metadata": {},
   "source": [
    "### Part I\n",
    "\n",
    "1. Word Embedding\n",
    "\n",
    "2. <font color=orange>**Sentence Classification**</font>\n",
    "\n",
    "3. Language Modeling\n",
    "\n",
    "4. Sequence Labelling\n",
    "\n",
    "\n",
    "### Part II\n",
    "\n",
    "1. Text Classification\n",
    "\n",
    "2. Sequence to sequence\n",
    "\n",
    "\n",
    "\n",
    "### Part III\n",
    "\n",
    "1. Abstractive Summarization\n",
    "\n",
    "2. Question Answering\n",
    "\n",
    "3. Chatbot\n",
    "\n",
    "\n",
    "</div>\n",
    "\n",
    "***"
   ]
  },
  {
   "cell_type": "markdown",
   "metadata": {},
   "source": [
    "<a id=\"plan\"></a>"
   ]
  },
  {
   "cell_type": "markdown",
   "metadata": {},
   "source": [
    "| | | | | |\n",
    "|------|------|------|------|------|\n",
    "| **Content** | [Corpus](#corpus) | [Modules](#modules) | [Model](#model) | \n",
    "\n",
    "# Overview\n",
    "\n",
    "\n",
    "The global structure of the [sentence classifier](#classifier) is the pipeline of three modules, followed by a final classification layer :\n",
    "\n",
    "\n",
    "\n",
    "| | Module |  | |\n",
    "|------|------|------|------|\n",
    "| 1 | **Word Embedding** | [I.1 Custom model](#word_level_custom) | [I.2 Gensim Model](#gensim) | [I.3 FastText model](#fastText) |\n",
    "| 2 | **Contextualization** | [II.1 bidirectionnal GRU](#bi_gru) |  |\n",
    "| 3 | **Self-Attention** | [III.1 Self-Attention](#attention) | [III.2 Multi-head Self-Attention](#multihead_attention) |\n",
    "\n",
    "\n",
    "\n",
    "All details on Word Embedding modules and their pre-training are found in **Part I - 1**."
   ]
  },
  {
   "cell_type": "markdown",
   "metadata": {},
   "source": [
    "# Packages"
   ]
  },
  {
   "cell_type": "code",
   "execution_count": 1,
   "metadata": {},
   "outputs": [
    {
     "name": "stderr",
     "output_type": "stream",
     "text": [
      "C:\\ProgramData\\Anaconda3\\lib\\site-packages\\gensim\\utils.py:1197: UserWarning: detected Windows; aliasing chunkize to chunkize_serial\n",
      "  warnings.warn(\"detected Windows; aliasing chunkize to chunkize_serial\")\n"
     ]
    },
    {
     "name": "stdout",
     "output_type": "stream",
     "text": [
      "python version : 3.6.5 |Anaconda, Inc.| (default, Mar 29 2018, 13:32:41) [MSC v.1900 64 bit (AMD64)]\n",
      "pytorch version : 1.5.0\n",
      "DL device : cuda\n"
     ]
    }
   ],
   "source": [
    "from __future__ import unicode_literals, print_function, division\n",
    "import sys\n",
    "import warnings\n",
    "import os\n",
    "from io import open\n",
    "import unicodedata\n",
    "import string\n",
    "import time\n",
    "import math\n",
    "import re\n",
    "import random\n",
    "import pickle\n",
    "import copy\n",
    "from unidecode import unidecode\n",
    "import itertools\n",
    "import gc\n",
    "import multiprocessing\n",
    "\n",
    "import matplotlib\n",
    "import matplotlib.pyplot as plt\n",
    "\n",
    "\n",
    "# for special math operation\n",
    "from sklearn.preprocessing import normalize\n",
    "\n",
    "\n",
    "# for manipulating data \n",
    "import numpy as np\n",
    "#np.set_printoptions(threshold=np.nan)\n",
    "import pandas as pd\n",
    "import bcolz # see https://bcolz.readthedocs.io/en/latest/intro.html\n",
    "import pickle\n",
    "\n",
    "\n",
    "# for text processing\n",
    "import gensim\n",
    "from gensim.models import KeyedVectors\n",
    "import spacy\n",
    "import nltk\n",
    "#nltk.download()\n",
    "from nltk.tokenize import sent_tokenize, word_tokenize, RegexpTokenizer\n",
    "from nltk.stem.porter import PorterStemmer\n",
    "\n",
    "\n",
    "# for deep learning\n",
    "import torch\n",
    "import torch.nn as nn\n",
    "from torch.autograd import Variable\n",
    "from torch import optim\n",
    "import torch.nn.functional as F\n",
    "from torch.utils.data import DataLoader\n",
    "device = torch.device(\"cuda\" if torch.cuda.is_available() else \"cpu\")\n",
    "torch.backends.cudnn.benchmark = True\n",
    "\n",
    "warnings.filterwarnings(\"ignore\")\n",
    "print('python version :', sys.version)\n",
    "print('pytorch version :', torch.__version__)\n",
    "print('DL device :', device)"
   ]
  },
  {
   "cell_type": "code",
   "execution_count": 2,
   "metadata": {},
   "outputs": [],
   "source": [
    "path_to_DL4NLP = os.path.dirname(os.getcwd())"
   ]
  },
  {
   "cell_type": "code",
   "execution_count": 3,
   "metadata": {},
   "outputs": [],
   "source": [
    "sys.path.append(path_to_DL4NLP + '\\\\lib')"
   ]
  },
  {
   "cell_type": "markdown",
   "metadata": {},
   "source": [
    "<a id=\"corpus\"></a>"
   ]
  },
  {
   "cell_type": "markdown",
   "metadata": {},
   "source": [
    "# Corpus\n",
    "\n",
    "[Back to top](#plan)\n",
    "\n",
    "Le texte est importé et mis sous forme de liste, où chaque élément représente un texte présenté sous forme d'une liste de mots."
   ]
  },
  {
   "cell_type": "code",
   "execution_count": 4,
   "metadata": {},
   "outputs": [],
   "source": [
    "df_AGnews_trn = pd.read_csv(path_to_DL4NLP + \"\\\\data\\\\AG News\\\\train.csv\", sep = ',', header = None, error_bad_lines = False)\n",
    "df_AGnews_tst = pd.read_csv(path_to_DL4NLP + \"\\\\data\\\\AG News\\\\test.csv\" , sep = ',', header = None, error_bad_lines = False)"
   ]
  },
  {
   "cell_type": "code",
   "execution_count": 5,
   "metadata": {},
   "outputs": [],
   "source": [
    "df_AGnews_trn.columns = ['index', 'title', 'description']\n",
    "df_AGnews_tst.columns = ['index', 'title', 'description']"
   ]
  },
  {
   "cell_type": "code",
   "execution_count": 6,
   "metadata": {},
   "outputs": [
    {
     "data": {
      "text/html": [
       "<div>\n",
       "<style scoped>\n",
       "    .dataframe tbody tr th:only-of-type {\n",
       "        vertical-align: middle;\n",
       "    }\n",
       "\n",
       "    .dataframe tbody tr th {\n",
       "        vertical-align: top;\n",
       "    }\n",
       "\n",
       "    .dataframe thead th {\n",
       "        text-align: right;\n",
       "    }\n",
       "</style>\n",
       "<table border=\"1\" class=\"dataframe\">\n",
       "  <thead>\n",
       "    <tr style=\"text-align: right;\">\n",
       "      <th></th>\n",
       "      <th>index</th>\n",
       "      <th>title</th>\n",
       "      <th>description</th>\n",
       "    </tr>\n",
       "  </thead>\n",
       "  <tbody>\n",
       "    <tr>\n",
       "      <th>0</th>\n",
       "      <td>3</td>\n",
       "      <td>Wall St. Bears Claw Back Into the Black (Reuters)</td>\n",
       "      <td>Reuters - Short-sellers, Wall Street's dwindli...</td>\n",
       "    </tr>\n",
       "    <tr>\n",
       "      <th>1</th>\n",
       "      <td>3</td>\n",
       "      <td>Carlyle Looks Toward Commercial Aerospace (Reu...</td>\n",
       "      <td>Reuters - Private investment firm Carlyle Grou...</td>\n",
       "    </tr>\n",
       "    <tr>\n",
       "      <th>2</th>\n",
       "      <td>3</td>\n",
       "      <td>Oil and Economy Cloud Stocks' Outlook (Reuters)</td>\n",
       "      <td>Reuters - Soaring crude prices plus worries\\ab...</td>\n",
       "    </tr>\n",
       "    <tr>\n",
       "      <th>3</th>\n",
       "      <td>3</td>\n",
       "      <td>Iraq Halts Oil Exports from Main Southern Pipe...</td>\n",
       "      <td>Reuters - Authorities have halted oil export\\f...</td>\n",
       "    </tr>\n",
       "    <tr>\n",
       "      <th>4</th>\n",
       "      <td>3</td>\n",
       "      <td>Oil prices soar to all-time record, posing new...</td>\n",
       "      <td>AFP - Tearaway world oil prices, toppling reco...</td>\n",
       "    </tr>\n",
       "  </tbody>\n",
       "</table>\n",
       "</div>"
      ],
      "text/plain": [
       "   index                                              title  \\\n",
       "0      3  Wall St. Bears Claw Back Into the Black (Reuters)   \n",
       "1      3  Carlyle Looks Toward Commercial Aerospace (Reu...   \n",
       "2      3    Oil and Economy Cloud Stocks' Outlook (Reuters)   \n",
       "3      3  Iraq Halts Oil Exports from Main Southern Pipe...   \n",
       "4      3  Oil prices soar to all-time record, posing new...   \n",
       "\n",
       "                                         description  \n",
       "0  Reuters - Short-sellers, Wall Street's dwindli...  \n",
       "1  Reuters - Private investment firm Carlyle Grou...  \n",
       "2  Reuters - Soaring crude prices plus worries\\ab...  \n",
       "3  Reuters - Authorities have halted oil export\\f...  \n",
       "4  AFP - Tearaway world oil prices, toppling reco...  "
      ]
     },
     "execution_count": 6,
     "metadata": {},
     "output_type": "execute_result"
    }
   ],
   "source": [
    "df_AGnews_trn.head()"
   ]
  },
  {
   "cell_type": "code",
   "execution_count": 7,
   "metadata": {},
   "outputs": [],
   "source": [
    "def tokenize(s) :\n",
    "    def unicodeToAscii(s):\n",
    "        return ''.join( c for c in unicodedata.normalize('NFD', s)\n",
    "                        if unicodedata.category(c) != 'Mn')\n",
    "\n",
    "    def normalizeString(s):\n",
    "        s = unicodeToAscii(s.strip())\n",
    "        return s\n",
    "\n",
    "    def cleanSentence(s) :\n",
    "        s = s.lower()\n",
    "        s = s.replace('\\\\', ' ')\n",
    "        s = re.sub('[\\.!?]+ ', ' . ', s)\n",
    "        s = s.replace('%', ' % ')\n",
    "        s = re.sub(' [0-9]*\\.[0-9] ', ' FLOAT ', ' ' + s + ' ').strip()\n",
    "        s = re.sub(' [0-9,]*[0-9] ', ' INT ', ' ' + s + ' ').strip()\n",
    "\n",
    "        for w in ['\"', \"'\", '”', '“', '/', '(', ')', '[', ']', '<', '>', ':', ','] : s = s.replace(w, '')\n",
    "        return s\n",
    "\n",
    "    def trueWord(w) :\n",
    "        return len(w)>0 and re.sub('[^a-zA-Z0-9.,]', '', w) != ''\n",
    "\n",
    "    s = normalizeString(s)\n",
    "    s = cleanSentence(s)\n",
    "    s = nltk.tokenize.word_tokenize(s)\n",
    "    s = [w for w in s if trueWord(w)]\n",
    "    return s"
   ]
  },
  {
   "cell_type": "code",
   "execution_count": 8,
   "metadata": {},
   "outputs": [],
   "source": [
    "# reduce label by 1 to make is starts from 0\n",
    "labelled_sentences_trn = [[tokenize(s1 + ' . ' + s2), l-1] for s1, s2, l in zip(df_AGnews_trn[\"title\"].values.tolist(), df_AGnews_trn[\"description\"].values.tolist(), df_AGnews_trn[\"index\"].values.tolist()) if tokenize(s1) != []]\n",
    "labelled_sentences_tst = [[tokenize(s1 + ' . ' + s2), l-1] for s1, s2, l in zip(df_AGnews_tst[\"title\"].values.tolist(), df_AGnews_tst[\"description\"].values.tolist(), df_AGnews_tst[\"index\"].values.tolist()) if tokenize(s1) != []]"
   ]
  },
  {
   "cell_type": "markdown",
   "metadata": {},
   "source": [
    "<a id=\"modules\"></a>"
   ]
  },
  {
   "cell_type": "markdown",
   "metadata": {},
   "source": [
    "# 1 Modules\n",
    "\n",
    "### 1.1 Word Embedding module\n",
    "\n",
    "[Back to top](#plan)\n",
    "\n",
    "We assume that embedding model were pretrained following the steps detailed in **Part I - 1**.<br>\n",
    "We consider here Word2Vec models pre-trained following the Skip-Gram training objective.\n",
    "\n",
    "Since the chosen word embedding model must interact with subsequent modules int the sentence classification model, we wrap each model into a common small module that uniformize communication between any of these modules with subsequent ones.\n",
    "\n",
    "To speed up training we want to pre-pack sentences into mini-batches, each mini-batch forming a single Torch Variable. There are two issues for this :<br> First, packing sentences into mini-batches needs to introduce a additionnal _padding_ word in the Word2Vc model, in order to put sentences of a single mini-batch at equal length. Second, the Word2Vc model must be able to handle Torch Variables, which is not the case for Gensim and FastText models.\n",
    "\n",
    "A solution to these issues is to associate to the Word2Vec model a _twin_, which will be a Pytorch module containing and additionnal padding word/vector.\n",
    "\n",
    "\n",
    "The strength of FastText is the possiblity to advocate a word vctor to most unseen word by taking embedding of subword units.<br> However this advantage no longer exists for the Pytorch twin, since in such model only the lookup table remains.<br> Therefore it is necessary to wrap the fastText model into another Pytorch model, which will use a twin of the model for fast training and then use the original Word2Vec model for inference.\n",
    "\n",
    "All models are frozen after being loaded, so that none of their parameters is targeted by the sentence classifier optimizer."
   ]
  },
  {
   "cell_type": "code",
   "execution_count": 9,
   "metadata": {},
   "outputs": [],
   "source": [
    "#from libDL4NLP.models import Word2VecConnector"
   ]
  },
  {
   "cell_type": "code",
   "execution_count": 10,
   "metadata": {},
   "outputs": [],
   "source": [
    "class Word2VecConnector(nn.Module) :\n",
    "    '''A Pytorch module wrapping a FastText word2vec model'''\n",
    "    def __init__(self, word2vec) :\n",
    "        super().__init__()\n",
    "        \n",
    "        self.word2vec = word2vec\n",
    "        self.twin = myWord2Vec(lang = Lang([list(word2vec.wv.index2word)], base_tokens = []), T = word2vec.wv.vectors)\n",
    "        self.twin.addWord('PADDING_WORD')\n",
    "        self.twin.addWord('UNK')\n",
    "        self.twin = self.twin.freeze()\n",
    "        \n",
    "        self.lang      = self.twin.lang\n",
    "        self.embedding = self.twin.embedding\n",
    "        self.out_dim   = self.twin.out_dim\n",
    "        \n",
    "    def lookupTable(self) :\n",
    "        return self.word2vec.wv.vectors\n",
    "        \n",
    "    def forward(self, words, device = None) :\n",
    "        '''Transforms a sequence of n words into a Torch FloatTensor of size (1, n, emb_dim)'''\n",
    "        try :\n",
    "            embeddings = Variable(torch.Tensor(self.word2vec[words])).unsqueeze(0)\n",
    "            if device is not None : embeddings = embeddings.to(device)\n",
    "        except :\n",
    "            embeddings = self.twin(words, device)\n",
    "        return embeddings"
   ]
  },
  {
   "cell_type": "markdown",
   "metadata": {},
   "source": [
    "<a id=\"word_level_custom\"></a>\n",
    "\n",
    "\n",
    "#### 1.1.1 Custom model"
   ]
  },
  {
   "cell_type": "code",
   "execution_count": 11,
   "metadata": {},
   "outputs": [],
   "source": [
    "from libDL4NLP.models.Word_Embedding import Word2Vec as myWord2Vec\n",
    "from libDL4NLP.utils import Lang"
   ]
  },
  {
   "cell_type": "code",
   "execution_count": 12,
   "metadata": {},
   "outputs": [
    {
     "name": "stdout",
     "output_type": "stream",
     "text": [
      "30465\n"
     ]
    }
   ],
   "source": [
    "# pretrained\n",
    "#custom_word2vec = torch.load(path_to_DL4NLP + '\\\\saves\\\\DL4NLP_I1_cbow.pt').freeze()\n",
    "\n",
    "# from scratch\n",
    "lang = Lang(corpus = [sl[0] for sl in labelled_sentences_trn], min_count = 5)\n",
    "print(lang.n_words)\n",
    "\n",
    "word2vec = myWord2Vec(lang, T = 100)"
   ]
  },
  {
   "cell_type": "markdown",
   "metadata": {},
   "source": [
    "<a id=\"gensim\"></a>\n",
    "\n",
    "#### 1.1.2 Gensim model"
   ]
  },
  {
   "cell_type": "code",
   "execution_count": 12,
   "metadata": {},
   "outputs": [],
   "source": [
    "from gensim.models import Word2Vec\n",
    "from gensim.test.utils import datapath, get_tmpfile"
   ]
  },
  {
   "cell_type": "code",
   "execution_count": 14,
   "metadata": {},
   "outputs": [],
   "source": [
    "# load\n",
    "file_name = get_tmpfile(path_to_DL4NLP + \"\\\\saves\\\\DL4NLP_I2_skipgram_gensim.model\")\n",
    "sg_gensim = Word2Vec.load(file_name)"
   ]
  },
  {
   "cell_type": "code",
   "execution_count": 15,
   "metadata": {},
   "outputs": [],
   "source": [
    "sg_gensim = Word2Vec(\n",
    "    [s[0] for s in labelled_sentences_trn],\n",
    "    size      = 100, \n",
    "    window    = 5, \n",
    "    min_count = 5, \n",
    "    negative  = 20, \n",
    "    iter      = 25,\n",
    "    sg        = 1,\n",
    "    workers   = multiprocessing.cpu_count())"
   ]
  },
  {
   "cell_type": "code",
   "execution_count": 14,
   "metadata": {},
   "outputs": [],
   "source": [
    "# save\n",
    "#file_name = get_tmpfile(path_to_DL4NLP + \"\\\\saves\\\\DL4NLP_I2_skipgram_gensim.model\")\n",
    "#sg_gensim.save(file_name)"
   ]
  },
  {
   "cell_type": "code",
   "execution_count": 17,
   "metadata": {},
   "outputs": [],
   "source": [
    "gensim_word2vec = Word2VecConnector(sg_gensim)"
   ]
  },
  {
   "cell_type": "markdown",
   "metadata": {},
   "source": [
    "<a id=\"fastText\"></a>\n",
    "\n",
    "#### 1.1.3 FastText model"
   ]
  },
  {
   "cell_type": "code",
   "execution_count": 13,
   "metadata": {},
   "outputs": [],
   "source": [
    "from gensim.models.fasttext import FastText\n",
    "from gensim.test.utils import datapath, get_tmpfile"
   ]
  },
  {
   "cell_type": "code",
   "execution_count": 14,
   "metadata": {},
   "outputs": [],
   "source": [
    "# load\n",
    "file_name = get_tmpfile(path_to_DL4NLP + \"\\\\saves\\\\DL4NLP_I2_skipgram_fasttext.model\")\n",
    "sg_fasttext = Word2Vec.load(file_name)"
   ]
  },
  {
   "cell_type": "code",
   "execution_count": null,
   "metadata": {},
   "outputs": [],
   "source": [
    "sg_fasttext = FastText(\n",
    "    size      = 100, \n",
    "    window    = 5, \n",
    "    min_count = 5, \n",
    "    negative  = 20,\n",
    "    sg        = 1)\n",
    "\n",
    "sg_fasttext.build_vocab([s[0] for s in labelled_sentences_trn])\n",
    "\n",
    "sg_fasttext.train(\n",
    "    sentences = [s[0] for s in labelled_sentences_trn], \n",
    "    epochs = 25,\n",
    "    total_examples = sg_fasttext.corpus_count)"
   ]
  },
  {
   "cell_type": "code",
   "execution_count": null,
   "metadata": {},
   "outputs": [],
   "source": [
    "# save\n",
    "#file_name = get_tmpfile(path_to_DL4NLP + \"\\\\saves\\\\DL4NLP_I2_skipgram_fasttext.model\")\n",
    "#sg_fasttext.save(file_name)"
   ]
  },
  {
   "cell_type": "code",
   "execution_count": 15,
   "metadata": {},
   "outputs": [],
   "source": [
    "fasttext_word2vec = Word2VecConnector(sg_fasttext)"
   ]
  },
  {
   "cell_type": "markdown",
   "metadata": {},
   "source": [
    "### 1.2 Contextualization module\n",
    "\n",
    "[Back to top](#plan)\n",
    "\n",
    "The contextualization layer transforms a sequences of word vectors into another one, of same length, where each output vector corresponds to a new version of each input vector that is contextualized with respect to neighboring vectors.\n",
    "\n",
    "<a id=\"bi_gru\"></a>\n",
    "\n",
    "#### 1.2.1 Bi-directionnal GRU contextualization\n",
    "\n",
    "This module consists of a bi-directional _Gated Recurrent Unit_ (GRU) that supports packed sentences :"
   ]
  },
  {
   "cell_type": "code",
   "execution_count": 17,
   "metadata": {},
   "outputs": [],
   "source": [
    "#from libDL4NLP.modules import RecurrentEncoder"
   ]
  },
  {
   "cell_type": "code",
   "execution_count": 16,
   "metadata": {},
   "outputs": [],
   "source": [
    "class RecurrentEncoder(nn.Module):\n",
    "    def __init__(self, emb_dim, hid_dim, \n",
    "                 n_layer = 1, \n",
    "                 dropout = 0, \n",
    "                 bidirectional = False): \n",
    "        super().__init__()\n",
    "        \n",
    "        # relevant quantities\n",
    "        self.emb_dim = emb_dim\n",
    "        self.hid_dim = hid_dim\n",
    "        self.out_dim = hid_dim # * (2 if bidirectional else 1)\n",
    "        self.n_layer = n_layer\n",
    "        self.bidirectional = bidirectional\n",
    "\n",
    "        # layers\n",
    "        self.dropout = nn.Dropout(p = dropout)\n",
    "        self.bigru = nn.GRU(\n",
    "            emb_dim, \n",
    "            hid_dim, \n",
    "            n_layer,\n",
    "            dropout = (0 if n_layer == 1 else dropout), \n",
    "            bidirectional = bidirectional,\n",
    "            batch_first = False)\n",
    "\n",
    "        \n",
    "    def forward(self, embeddings, \n",
    "                lengths = None, \n",
    "                hidden = None, \n",
    "                enforce_sorted = True) :\n",
    "        # embedding\n",
    "        embeddings = self.dropout(embeddings)    # size (batch_size, input_length, emb_dim)\n",
    "        embeddings = embeddings.transpose(0, 1)  # size (input_length, batch_size, emb_dim)\n",
    "        # packing\n",
    "        if lengths is not None : \n",
    "            embeddings = nn.utils.rnn.pack_padded_sequence(\n",
    "                embeddings, \n",
    "                lengths, \n",
    "                batch_first = False, \n",
    "                enforce_sorted = enforce_sorted)\n",
    "        # GRU pass\n",
    "        outputs, hidden = self.bigru(embeddings, hidden)\n",
    "        # padding\n",
    "        if lengths is not None : \n",
    "            outputs, _ = torch.nn.utils.rnn.pad_packed_sequence(outputs, batch_first = False)\n",
    "        # Sum bidirectional GRU outputs\n",
    "        if self.bidirectional : outputs = outputs[:, :, :self.hid_dim] + outputs[:, : ,self.hid_dim:]\n",
    "        # batch first\n",
    "        outputs = outputs.transpose(0, 1) # size (batch_size, input_length, out_dim)\n",
    "        # dropout\n",
    "        outputs = self.dropout(outputs) # size (batch_size, input_length, out_dim)\n",
    "        hidden  = self.dropout(hidden)  # size (n_layer * num_dir, batch_size, hid_dim)\n",
    "        return outputs, hidden"
   ]
  },
  {
   "cell_type": "markdown",
   "metadata": {},
   "source": [
    "### 1.3 Attention module\n",
    "\n",
    "[Back to top](#plan)\n",
    "\n",
    "<a id=\"attention\"></a>\n",
    "\n",
    "#### 1.3.1 Self-Attention Module with Highway connections\n",
    "\n",
    "Highway connections are presented in [Highway Networks (2015)](https://arxiv.org/pdf/1505.00387.pdf)"
   ]
  },
  {
   "cell_type": "code",
   "execution_count": 19,
   "metadata": {},
   "outputs": [],
   "source": [
    "#from libDL4NLP.modules import SelfAttention\n",
    "#from libDL4NLP.misc    import Highway"
   ]
  },
  {
   "cell_type": "code",
   "execution_count": 17,
   "metadata": {},
   "outputs": [],
   "source": [
    "class Highway(nn.Module):\n",
    "    def __init__(self, dim, \n",
    "                 dropout = 0, \n",
    "                 act = F.tanh):\n",
    "        super().__init__()\n",
    "        \n",
    "        # relevant quantities\n",
    "        self.dim = dim\n",
    "        \n",
    "        # layers\n",
    "        self.transf  = nn.Linear(dim, dim)\n",
    "        self.gate    = nn.Linear(dim, dim)\n",
    "        self.dropout = nn.Dropout(p = dropout)\n",
    "        self.act     = act\n",
    "\n",
    "    def forward(self, vect):\n",
    "        transf = self.act(self.transf(vect))\n",
    "        gate   = F.sigmoid(self.gate(vect))\n",
    "        vect   = gate * transf + (1 - gate) * vect\n",
    "        vect   = self.dropout(vect)\n",
    "        return vect"
   ]
  },
  {
   "cell_type": "code",
   "execution_count": 18,
   "metadata": {},
   "outputs": [],
   "source": [
    "class SelfAttention(nn.Module):\n",
    "    def __init__(self, emb_dim, \n",
    "                 dropout = 0): \n",
    "        super().__init__()\n",
    "\n",
    "        # relevant quantities\n",
    "        self.emb_dim = emb_dim\n",
    "        self.out_dim = emb_dim\n",
    "\n",
    "        # layers\n",
    "        self.dropout = nn.Dropout(p = dropout)\n",
    "        self.key     = nn.Sequential(Highway(emb_dim), nn.Linear(emb_dim, 1, bias = False))\n",
    "        self.value   = Highway(emb_dim, dropout = dropout)\n",
    "        self.act     = F.softmax\n",
    "    \n",
    "    def computeMask(self, lengths, max_length) :\n",
    "        # see http://juditacs.github.io/2018/12/27/masked-attention.html\n",
    "        return torch.arange(max_length).to(lengths.device)[None, :] < lengths[:, None]\n",
    "\n",
    "    def forward(self, embeddings,\n",
    "               lengths = None) :             # size (batch_size, max_length, emb_dim)  \n",
    "        # compute weights\n",
    "        weights = self.key(embeddings)       # size (batch_size, max_length, 1) \n",
    "        weights = weights.squeeze(2)         # size (batch_size, max_length)\n",
    "        # mask attention over padded tokens\n",
    "        if lengths is not None :\n",
    "            mask = self.computeMask(lengths, weights.size(1))\n",
    "            weights[~mask] = float('-inf')   # size (batch_size, max_length)\n",
    "        # compute weighted sum\n",
    "        weights = self.act(weights, dim = 1) # size (batch_size, max_length)\n",
    "        weights = weights.unsqueeze(1)       # size (batch_size, 1, max_length)\n",
    "        values  = self.value(embeddings)     # size (batch_size, max_length, emb_dim)\n",
    "        applied = torch.bmm(weights, values) # size (batch_size, 1, emb_dim)\n",
    "        return applied, weights"
   ]
  },
  {
   "cell_type": "markdown",
   "metadata": {},
   "source": [
    "<a id=\"multihead_attention\"></a>\n",
    "\n",
    "#### 1.3.2 Multi-head Self-Attention Module\n",
    "\n",
    "- Idea presented at ICLR 2017 : [A structured self-attentive sentence embedding (2017)](https://arxiv.org/pdf/1703.03130.pdf)\n",
    "- Latest development : [Orthogonality Constrained Multi-Head Attention For Keyword Spotting (2019)](https://arxiv.org/pdf/1910.04500.pdf)"
   ]
  },
  {
   "cell_type": "code",
   "execution_count": 21,
   "metadata": {},
   "outputs": [],
   "source": [
    "#from libDL4NLP.modules import MultiHeadSelfAttention"
   ]
  },
  {
   "cell_type": "code",
   "execution_count": 19,
   "metadata": {},
   "outputs": [],
   "source": [
    "class MultiHeadSelfAttention(nn.Module):\n",
    "    def __init__(self, emb_dim, \n",
    "                 n_head = 1, \n",
    "                 penalization = False, \n",
    "                 dropout = 0): \n",
    "        super().__init__()\n",
    "        \n",
    "        # relevant quantities\n",
    "        self.emb_dim = emb_dim\n",
    "        self.out_dim = n_head * emb_dim\n",
    "        self.penalization = penalization\n",
    "        self.n_head = n_head\n",
    "        \n",
    "        # layers\n",
    "        self.attn_list = nn.ModuleList([SelfAttention(emb_dim, dropout) for i in range(n_head)])\n",
    "        \n",
    "    def compute_penalty(self, weights) :\n",
    "        weights_t = weights.transpose(1, 2)\n",
    "        def_pos   = [torch.mm(weights[i], weights_t[i]) for i in range(weights.size(0))] # size (batch_size, n_heads, n_heads)\n",
    "        ide       = Variable(torch.eye(self.n_head)).to(weights.device)\n",
    "        penal     = torch.sum(torch.cat([torch.norm(mmt - ide).view(1) for mmt in def_pos]))\n",
    "        return penal\n",
    "    \n",
    "    def forward(self, embeddings, \n",
    "                lengths = None,\n",
    "                compute_penalty = False):\n",
    "        # compute self-attention\n",
    "        outputs = [attn(embeddings, lengths) for attn in self.attn_list]\n",
    "        applied = torch.cat([out[0] for out in outputs], dim = 1) # size (batch_size, n_heads, embedding_dim)\n",
    "        weights = torch.cat([out[1] for out in outputs], dim = 1) # size (batch_size, n_heads, input_length)\n",
    "\n",
    "        # compute penalty\n",
    "        if self.penalization and compute_penalty and self.n_head > 1 :\n",
    "            penal = self.compute_penalty(weights)\n",
    "            return (applied, weights, penal)\n",
    "        elif compute_penalty : \n",
    "            return (applied, weights, None)\n",
    "        else :\n",
    "            return (applied, weights)"
   ]
  },
  {
   "cell_type": "markdown",
   "metadata": {},
   "source": [
    "### 1.4 Visualisation of attention\n",
    "\n",
    "#### 1.4.1 Visualisation with heatmap\n",
    "\n",
    "Taken from [this page](https://matplotlib.org/3.1.1/gallery/images_contours_and_fields/image_annotated_heatmap.html#sphx-glr-gallery-images-contours-and-fields-image-annotated-heatmap-py)"
   ]
  },
  {
   "cell_type": "code",
   "execution_count": 23,
   "metadata": {},
   "outputs": [],
   "source": [
    "#from libDL4NLP.utils import AttentionViewer, AttentionViewerOnWords"
   ]
  },
  {
   "cell_type": "code",
   "execution_count": 20,
   "metadata": {},
   "outputs": [],
   "source": [
    "def AttentionViewer(attention, row_labels, col_labels) : \n",
    "    '''attention  = np.array of size (num_rows, num_columns)\n",
    "       row_labels = list of (str)\n",
    "       col_labels = list of (str)\n",
    "    '''\n",
    "    def heatmap(data, row_labels, col_labels, ax = None, cbar_kw = {}, cbarlabel = \"\", **kwargs):\n",
    "        if not ax: ax = plt.gca()\n",
    "        # Plot the heatmap\n",
    "        im = ax.imshow(data, **kwargs)\n",
    "        # We want to show all ticks...\n",
    "        ax.set_xticks(np.arange(data.shape[1]))\n",
    "        ax.set_yticks(np.arange(data.shape[0]))\n",
    "        # ... and label them with the respective list entries.\n",
    "        ax.set_xticklabels(col_labels)\n",
    "        ax.set_yticklabels(row_labels)\n",
    "        # Let the horizontal axes labeling appear on top.\n",
    "        ax.tick_params(top=True, bottom=False, labeltop=True, labelbottom=False)\n",
    "        # Rotate the tick labels and set their alignment.\n",
    "        plt.setp(ax.get_xticklabels(), rotation=-30, ha=\"right\",\n",
    "                 rotation_mode=\"anchor\")\n",
    "        # Turn spines off and create white grid.\n",
    "        for edge, spine in ax.spines.items():\n",
    "            spine.set_visible(False)\n",
    "\n",
    "        ax.set_xticks(np.arange(data.shape[1]+1)-.5, minor=True)\n",
    "        ax.set_yticks(np.arange(data.shape[0]+1)-.5, minor=True)\n",
    "        ax.grid(which=\"minor\", color=\"w\", linestyle='-', linewidth=3)\n",
    "        ax.tick_params(which=\"minor\", bottom=False, left=False)\n",
    "        return im\n",
    "\n",
    "    def annotate_heatmap(im, data = None, valfmt = \"{x:.2f}\", textcolors = [\"black\", \"white\"], threshold = None, **textkw):\n",
    "        if not isinstance(data, (list, np.ndarray)):\n",
    "            data = im.get_array()\n",
    "        # Normalize the threshold to the images color range.\n",
    "        if threshold is not None:\n",
    "            threshold = im.norm(threshold)\n",
    "        else:\n",
    "            threshold = im.norm(data.max())/2.\n",
    "        # Set default alignment to center, but allow it to be\n",
    "        # overwritten by textkw.\n",
    "        kw = dict(horizontalalignment = \"center\",\n",
    "                  verticalalignment   = \"center\")\n",
    "        kw.update(textkw)\n",
    "        # Get the formatter in case a string is supplied\n",
    "        if isinstance(valfmt, str):\n",
    "            valfmt = matplotlib.ticker.StrMethodFormatter(valfmt)\n",
    "        # Loop over the data and create a `Text` for each \"pixel\".\n",
    "        # Change the text's color depending on the data.\n",
    "        texts = []\n",
    "        for i in range(data.shape[0]):\n",
    "            for j in range(data.shape[1]):\n",
    "                kw.update(color=textcolors[int(im.norm(data[i, j]) > threshold)])\n",
    "                text = im.axes.text(j, i, valfmt(data[i, j], None), **kw)\n",
    "                texts.append(text)\n",
    "        return texts\n",
    "    \n",
    "    # -- main --\n",
    "    fig, ax = plt.subplots()\n",
    "    im      = heatmap(attention, row_labels, col_labels, ax=ax, cmap=\"YlGn\", cbarlabel=\"harvest [t/year]\")\n",
    "    texts   = annotate_heatmap(im, valfmt=\"{x:.2f}\")\n",
    "    fig.tight_layout()\n",
    "    plt.show()\n",
    "    return"
   ]
  },
  {
   "cell_type": "markdown",
   "metadata": {},
   "source": [
    "#### 1.4.2 Visualisation on processed tokens"
   ]
  },
  {
   "cell_type": "code",
   "execution_count": 21,
   "metadata": {},
   "outputs": [],
   "source": [
    "def AttentionViewerOnWords(attention, row_labels, col_labels, \n",
    "                           colors = 'Reds', \n",
    "                           n = 8) : \n",
    "    '''attention  = np.array of size (num_rows, num_columns)\n",
    "       row_labels = list of (str)\n",
    "       col_labels = list of (str)\n",
    "    '''\n",
    "    def generateColors(colors, n):\n",
    "        colors = plt.get_cmap(colors)\n",
    "        Triplets = []\n",
    "        for i in range(n) :\n",
    "            triplet = [int(j * 256) for j in colors(i/10)[:3]]\n",
    "            Triplets.append(triplet)\n",
    "        return Triplets\n",
    "    \n",
    "    def weight2color(weight, triplets):\n",
    "        n = len(triplets)\n",
    "        for i in range(n):\n",
    "            if weight >= i/n and weight <= (i+1)/n : \n",
    "                return triplets[i]\n",
    "            \n",
    "    def addColor(texte, \n",
    "                 RGB = (100,100,100)):\n",
    "        new_texte = '\\x1b[48;2;'  + str(RGB[0]) + \";\" + str(RGB[1]) + \";\" + str(RGB[2]) + \"m\"  + texte + \"\\x1b[0m\"\n",
    "        return new_texte\n",
    "    \n",
    "    # -- main --\n",
    "    Triplets = generateColors(colors, n)\n",
    "    Colored_text = ''\n",
    "    sep = ' - ' if attention.shape[0] > 1 else ''\n",
    "    for i in range(attention.shape[0]) :\n",
    "        #Colored_text += row_labels[i] + sep\n",
    "        for j in range(attention.shape[1]) :\n",
    "            color = weight2color(attention[i, j], Triplets)\n",
    "            Colored_text += addColor(col_labels[j], color) + ' '\n",
    "        Colored_text += sep + row_labels[i] + '\\n' \n",
    "    print(Colored_text)\n",
    "    return"
   ]
  },
  {
   "cell_type": "markdown",
   "metadata": {},
   "source": [
    "<a id=\"model\"></a>"
   ]
  },
  {
   "cell_type": "markdown",
   "metadata": {},
   "source": [
    "# 2 Sentence Classifier\n",
    "\n",
    "[Back to top](#plan)\n"
   ]
  },
  {
   "cell_type": "markdown",
   "metadata": {},
   "source": [
    "### Model"
   ]
  },
  {
   "cell_type": "code",
   "execution_count": 26,
   "metadata": {},
   "outputs": [],
   "source": [
    "#from libDL4NLP.models import SentenceClassifier"
   ]
  },
  {
   "cell_type": "code",
   "execution_count": 22,
   "metadata": {},
   "outputs": [],
   "source": [
    "class SentenceClassifier(nn.Module) :\n",
    "    def __init__(self, device, tokenizer, word2vec, \n",
    "                 hidden_dim = 100, \n",
    "                 n_layer = 1, \n",
    "                 n_head  = 1, \n",
    "                 attn_penalization = False,\n",
    "                 n_class = 2, \n",
    "                 dropout = 0, \n",
    "                 class_weights = None, \n",
    "                 optimizer = optim.SGD\n",
    "                 ):\n",
    "        super().__init__()\n",
    "        \n",
    "        # relevant quantities\n",
    "        self.bin_mode  = (n_class == 'binary')\n",
    "        self.opc       = (n_head == 'opc' and n_class != 'binary')\n",
    "        \n",
    "        # layers\n",
    "        self.tokenize  = tokenizer\n",
    "        self.word2vec  = word2vec\n",
    "        self.context   = RecurrentEncoder(\n",
    "            emb_dim = self.word2vec.out_dim,\n",
    "            hid_dim = hidden_dim, \n",
    "            n_layer = n_layer, \n",
    "            dropout = dropout, \n",
    "            bidirectional = True)\n",
    "        self.attention = MultiHeadSelfAttention(\n",
    "            emb_dim      = self.context.out_dim, \n",
    "            n_head       = (n_class if self.opc else n_head),\n",
    "            penalization = attn_penalization, \n",
    "            dropout      = dropout)\n",
    "        self.out = nn.Linear(\n",
    "            (self.context.out_dim if self.opc else self.attention.out_dim), \n",
    "            (1 if self.opc or self.bin_mode else n_class))\n",
    "        self.act = F.sigmoid if self.bin_mode else F.softmax\n",
    "        \n",
    "        # optimizer\n",
    "        if self.bin_mode : self.criterion = nn.BCEWithLogitsLoss(size_average = False)\n",
    "        else             : self.criterion = nn.NLLLoss(size_average = False, weight = (torch.Tensor(class_weights) if class_weights is not None else None))\n",
    "        self.optimizer = optimizer\n",
    "        \n",
    "        # load to device\n",
    "        self.device = device\n",
    "        self.to(device)\n",
    "        \n",
    "        \n",
    "    def nbParametres(self) :\n",
    "        return sum([p.data.nelement() for p in self.parameters() if p.requires_grad == True])\n",
    "    \n",
    "    \n",
    "    # main method\n",
    "    def forward(self, sentence, attention_method = None) :\n",
    "        '''classifies a sentence as string'''\n",
    "        words      = self.tokenize(sentence)\n",
    "        embeddings = self.word2vec(words, self.device)\n",
    "        hiddens, _ = self.context(embeddings) \n",
    "        out, attn  = self.attention(hiddens)\n",
    "        attn       = np.array(attn[0].data.cpu().numpy()) # size (n_heads, input_length)\n",
    "        # compute prediction\n",
    "        if self.opc : \n",
    "            out    = self.out(out).squeeze(2) # size (1, n_class)\n",
    "            out    = self.act(out, dim = 1)   # size (1, n_class)\n",
    "            labels = ['class '+str(i+1) for i in range(attn.shape[0])] if attn.shape[0] > 1 else ['']\n",
    "            pred   = out.data.topk(1)[1].item()\n",
    "        elif self.bin_mode : \n",
    "            out    = out.view(1, -1) # size (1, n_heads * embedding_dim)\n",
    "            out    = self.out(out)   # size (1, 1)\n",
    "            labels = ['head '+str(i+1) for i in range(attn.shape[0])] if attn.shape[0] > 1 else ['']\n",
    "            pred   = out.item()\n",
    "        else :\n",
    "            out    = out.view(1, -1)         # size (1, n_heads * embedding_dim)\n",
    "            out    = self.act(self.out(out)) # size (1, n_class)\n",
    "            labels = ['head '+str(i+1) for i in range(attn.shape[0])] if attn.shape[0] > 1 else ['']\n",
    "            pred   = out.data.topk(1)[1].item()\n",
    "        # show attention\n",
    "        if attention_method is not None : attention_method(attn, labels, words)\n",
    "        return pred\n",
    "    \n",
    "    \n",
    "    # load data\n",
    "    def generatePackedSentences(self, sentences, batch_size = 32) :\n",
    "        def sentence2indices(words) :\n",
    "            inds  = [self.word2vec.lang.getIndex(w) for w in words]\n",
    "            inds  = [i for i in inds if i is not None]\n",
    "            return inds\n",
    "        \n",
    "        # --- main ---\n",
    "        sentences.sort(key = lambda s: len(s[0]), reverse = True)\n",
    "        packed_data = []\n",
    "        for i in range(0, len(sentences), batch_size) :\n",
    "            pack = [[sentence2indices(s[0]), s[1]] for s in sentences[i:i + batch_size]]\n",
    "            pack.sort(key = lambda s : len(s[0]), reverse = True)\n",
    "            pack0 = [p[0] for p in pack]\n",
    "            lengths = torch.tensor([len(p) for p in pack0])               # size (batch_size) \n",
    "            pack0 = list(itertools.zip_longest(*pack0, fillvalue = self.word2vec.lang.getIndex('PADDING_WORD')))\n",
    "            pack0 = Variable(torch.LongTensor(pack0).transpose(0, 1))     # size (batch_size, max_length)\n",
    "            pack1 = [p[1] for p in pack]\n",
    "            if self.bin_mode : pack1 = Variable(torch.FloatTensor(pack1)) # size (batch_size) \n",
    "            else             : pack1 = Variable(torch.LongTensor(pack1))  # size (batch_size) \n",
    "            packed_data.append([[pack0, lengths], pack1])\n",
    "        return packed_data\n",
    "    \n",
    "    \n",
    "    # compute model perf\n",
    "    def compute_accuracy(self, sentences, batch_size = 32) :\n",
    "        def compute_batch_accuracy(batch, target) :\n",
    "            torch.cuda.empty_cache()\n",
    "            batch_size  = batch[0].size(0)\n",
    "            lengths     = batch[1].to(self.device)\n",
    "            embeddings  = self.word2vec.embedding(batch[0].to(self.device))\n",
    "            hiddens, _  = self.context(embeddings, lengths)\n",
    "            out, attn   = self.attention(hiddens, lengths) # size (batch_size, n_heads, embedding_dim)\n",
    "            # compute score\n",
    "            if self.opc : \n",
    "                vect   = self.out(out).squeeze(2)        # size (batch_size, n_class)\n",
    "                log_ps = F.log_softmax(vect, dim = 1)    # size (batch_size, n_class)\n",
    "                target = target.to(self.device).view(-1) # size (batch_size)\n",
    "                score  = sum([target[i].item() == log_ps[i].data.topk(1)[1].item() for i in range(target.size(0))])\n",
    "            elif self.bin_mode : \n",
    "                vect   = out.view(batch_size, -1)        # size (batch_size, n_heads * embedding_dim)\n",
    "                vect   = self.out(vect).view(-1)         # size (batch_size)\n",
    "                target = target.to(self.device).view(-1)\n",
    "                score  = sum(torch.abs(target - self.act(vect)) < 0.5).item()\n",
    "            else :\n",
    "                vect   = out.view(batch_size, -1)        # size (batch_size, n_heads * embedding_dim)\n",
    "                vect   = self.out(vect)                  # size (batch_size, n_class)\n",
    "                log_ps = F.log_softmax(vect, dim = 1)    # size (batch_size, n_class)\n",
    "                target = target.to(self.device).view(-1) # size (batch_size)\n",
    "                score  = sum([target[i].item() == log_ps[i].data.topk(1)[1].item() for i in range(target.size(0))])\n",
    "            return score\n",
    "            \n",
    "        # --- main ---\n",
    "        batches = self.generatePackedSentences(sentences, batch_size)\n",
    "        score = 0\n",
    "        for batch, target in batches : score += compute_batch_accuracy(batch, target)\n",
    "        return score * 100 / len(sentences)\n",
    "    \n",
    "    \n",
    "    # fit model\n",
    "    def fit(self, batches, iters = None, epochs = None, lr = 0.025, random_state = 42,\n",
    "              print_every = 10, compute_accuracy = True):\n",
    "        \"\"\"Performs training over a given dataset and along a specified amount of loops\"\"\"\n",
    "        \n",
    "        def asMinutes(s):\n",
    "            m = math.floor(s / 60)\n",
    "            s -= m * 60\n",
    "            return '%dm %ds' % (m, s)\n",
    "\n",
    "        def timeSince(since, percent):\n",
    "            now = time.time()\n",
    "            s = now - since\n",
    "            rs = s/percent - s\n",
    "            return '%s (- %s)' % (asMinutes(s), asMinutes(rs))\n",
    "        \n",
    "        def computeLogProbs(batch) :\n",
    "            batch_size = batch[0].size(0)\n",
    "            lengths    = batch[1].to(self.device)\n",
    "            embeddings = self.word2vec.embedding(batch[0].to(self.device))\n",
    "            hiddens, _ = self.context(embeddings, lengths)\n",
    "            out, attn, penal = self.attention(hiddens, lengths, compute_penalty = True) # size (batch_size, n_heads, embedding_dim)\n",
    "            # compute log probs\n",
    "            if self.opc : \n",
    "                vect   = self.out(out).squeeze(2)      # size (batch_size, n_class)\n",
    "                log_ps = F.log_softmax(vect, dim = 1)  # size (batch_size, n_class)\n",
    "            elif self.bin_mode : \n",
    "                vect   = out.view(batch_size, -1)      # size (batch_size, n_heads * emb_dim)\n",
    "                log_ps = self.out(vect).view(-1)       # size (batch_size)\n",
    "            else :\n",
    "                vect   = out.view(batch_size, -1)      # size (batch_size, n_heads * emb_dim)\n",
    "                vect   = self.out(vect)                # size (batch_size, n_class)\n",
    "                log_ps = F.log_softmax(vect, dim = 1)  # size (batch_size, n_class)\n",
    "            return log_ps, penal\n",
    "\n",
    "        def computeAccuracy(log_probs, targets) :\n",
    "            if self.bin_mode : return sum(torch.abs(targets - self.act(log_probs)) < 0.5).item() * 100 / targets.size(0)\n",
    "            else             : return sum([targets[i].item() == log_probs[i].data.topk(1)[1].item() for i in range(targets.size(0))]) * 100 / targets.size(0)\n",
    "            \n",
    "        def printScores(start, iter, iters, tot_loss, tot_loss_words, print_every, compute_accuracy) :\n",
    "            avg_loss = tot_loss / print_every\n",
    "            avg_loss_words = tot_loss_words / print_every\n",
    "            if compute_accuracy : print(timeSince(start, iter / iters) + ' ({} {}%) loss : {:.3f}  accuracy : {:.1f} %'.format(iter, int(iter / iters * 100), avg_loss, avg_loss_words))\n",
    "            else                : print(timeSince(start, iter / iters) + ' ({} {}%) loss : {:.3f}                     '.format(iter, int(iter / iters * 100), avg_loss))\n",
    "            return 0, 0\n",
    "\n",
    "        def trainLoop(batch, optimizer, compute_accuracy = True):\n",
    "            \"\"\"Performs a training loop, with forward pass, backward pass and weight update.\"\"\"\n",
    "            torch.cuda.empty_cache()\n",
    "            optimizer.zero_grad()\n",
    "            self.zero_grad()\n",
    "            log_probs, penal = computeLogProbs(batch[0])\n",
    "            targets = batch[1].to(self.device).view(-1)\n",
    "            loss    = self.criterion(log_probs, targets)\n",
    "            if penal is not None and penal.item() > 1 : loss = loss + penal * 0.01\n",
    "            loss.backward()\n",
    "            optimizer.step() \n",
    "            accuracy = computeAccuracy(log_probs, targets) if compute_accuracy else 0\n",
    "            return float(loss.item() / targets.size(0)), accuracy\n",
    "        \n",
    "        # --- main ---\n",
    "        self.train()\n",
    "        random.seed(random_state)\n",
    "        start = time.time()\n",
    "        optimizer = self.optimizer([param for param in self.parameters() if param.requires_grad == True], lr = lr)\n",
    "        tot_loss = 0  \n",
    "        tot_acc  = 0\n",
    "        if epochs is None :\n",
    "            for iter in range(1, iters + 1):\n",
    "                batch = random.choice(batches)\n",
    "                loss, acc = trainLoop(batch, optimizer, compute_accuracy)\n",
    "                tot_loss += loss\n",
    "                tot_acc += acc      \n",
    "                if iter % print_every == 0 : \n",
    "                    tot_loss, tot_acc = printScores(start, iter, iters, tot_loss, tot_acc, print_every, compute_accuracy)\n",
    "        else :\n",
    "            iter = 0\n",
    "            iters = len(batches) * epochs\n",
    "            for epoch in range(1, epochs + 1):\n",
    "                print('epoch ' + str(epoch))\n",
    "                np.random.shuffle(batches)\n",
    "                for batch in batches :\n",
    "                    loss, acc = trainLoop(batch, optimizer, compute_accuracy)\n",
    "                    tot_loss += loss\n",
    "                    tot_acc += acc \n",
    "                    iter += 1\n",
    "                    if iter % print_every == 0 : \n",
    "                        tot_loss, tot_acc = printScores(start, iter, iters, tot_loss, tot_acc, print_every, compute_accuracy)\n",
    "        return"
   ]
  },
  {
   "cell_type": "markdown",
   "metadata": {},
   "source": [
    "### Training"
   ]
  },
  {
   "cell_type": "code",
   "execution_count": 24,
   "metadata": {
    "scrolled": true
   },
   "outputs": [
    {
     "data": {
      "text/plain": [
       "384204"
      ]
     },
     "execution_count": 24,
     "metadata": {},
     "output_type": "execute_result"
    }
   ],
   "source": [
    "classifier = SentenceClassifier(device = device,\n",
    "                                tokenizer = tokenize,\n",
    "                                word2vec = Word2VecConnector(sg_gensim),\n",
    "                                hidden_dim = 100, \n",
    "                                n_layer = 2,\n",
    "                                n_head  = 2, # 'opc', #1,\n",
    "                                attn_penalization = False,\n",
    "                                n_class = 4, #'binary', \n",
    "                                dropout = 0.15,\n",
    "                                optimizer = optim.AdamW)\n",
    "\n",
    "classifier.nbParametres()"
   ]
  },
  {
   "cell_type": "code",
   "execution_count": 75,
   "metadata": {},
   "outputs": [],
   "source": [
    "batches = classifier.generatePackedSentences(labelled_sentences_trn, batch_size = 16)"
   ]
  },
  {
   "cell_type": "code",
   "execution_count": 76,
   "metadata": {},
   "outputs": [
    {
     "data": {
      "text/plain": [
       "7500"
      ]
     },
     "execution_count": 76,
     "metadata": {},
     "output_type": "execute_result"
    }
   ],
   "source": [
    "len(batches)"
   ]
  },
  {
   "cell_type": "code",
   "execution_count": 90,
   "metadata": {
    "scrolled": true
   },
   "outputs": [
    {
     "name": "stdout",
     "output_type": "stream",
     "text": [
      "epoch 1\n",
      "0m 9s (- 12m 10s) (100 1%) loss : 0.662  accuracy : 73.3 %\n",
      "0m 19s (- 11m 34s) (200 2%) loss : 0.402  accuracy : 85.4 %\n",
      "0m 28s (- 11m 23s) (300 4%) loss : 0.399  accuracy : 86.8 %\n",
      "0m 37s (- 11m 5s) (400 5%) loss : 0.323  accuracy : 89.4 %\n",
      "0m 46s (- 10m 44s) (500 6%) loss : 0.419  accuracy : 85.9 %\n",
      "0m 54s (- 10m 30s) (600 8%) loss : 0.372  accuracy : 87.4 %\n",
      "1m 3s (- 10m 17s) (700 9%) loss : 0.309  accuracy : 89.3 %\n",
      "1m 12s (- 10m 5s) (800 10%) loss : 0.339  accuracy : 89.6 %\n",
      "1m 21s (- 9m 54s) (900 12%) loss : 0.299  accuracy : 89.9 %\n",
      "1m 29s (- 9m 43s) (1000 13%) loss : 0.296  accuracy : 89.9 %\n",
      "1m 38s (- 9m 33s) (1100 14%) loss : 0.369  accuracy : 87.2 %\n",
      "1m 47s (- 9m 23s) (1200 16%) loss : 0.327  accuracy : 88.1 %\n",
      "1m 56s (- 9m 13s) (1300 17%) loss : 0.314  accuracy : 89.3 %\n",
      "2m 4s (- 9m 3s) (1400 18%) loss : 0.318  accuracy : 89.1 %\n",
      "2m 13s (- 8m 54s) (1500 20%) loss : 0.334  accuracy : 88.2 %\n",
      "2m 22s (- 8m 45s) (1600 21%) loss : 0.273  accuracy : 90.8 %\n",
      "2m 31s (- 8m 36s) (1700 22%) loss : 0.341  accuracy : 88.8 %\n",
      "2m 40s (- 8m 28s) (1800 24%) loss : 0.317  accuracy : 88.9 %\n",
      "2m 49s (- 8m 19s) (1900 25%) loss : 0.333  accuracy : 88.5 %\n",
      "2m 58s (- 8m 9s) (2000 26%) loss : 0.280  accuracy : 90.7 %\n",
      "3m 7s (- 8m 1s) (2100 28%) loss : 0.239  accuracy : 91.1 %\n",
      "3m 15s (- 7m 51s) (2200 29%) loss : 0.286  accuracy : 90.1 %\n",
      "3m 24s (- 7m 43s) (2300 30%) loss : 0.298  accuracy : 89.9 %\n",
      "3m 33s (- 7m 34s) (2400 32%) loss : 0.286  accuracy : 89.9 %\n",
      "3m 43s (- 7m 26s) (2500 33%) loss : 0.289  accuracy : 89.7 %\n",
      "3m 51s (- 7m 16s) (2600 34%) loss : 0.318  accuracy : 89.2 %\n",
      "4m 1s (- 7m 8s) (2700 36%) loss : 0.258  accuracy : 91.1 %\n",
      "4m 10s (- 7m 0s) (2800 37%) loss : 0.276  accuracy : 89.9 %\n",
      "4m 20s (- 6m 52s) (2900 38%) loss : 0.288  accuracy : 89.8 %\n",
      "4m 29s (- 6m 43s) (3000 40%) loss : 0.328  accuracy : 88.8 %\n",
      "4m 39s (- 6m 36s) (3100 41%) loss : 0.298  accuracy : 89.8 %\n",
      "4m 48s (- 6m 27s) (3200 42%) loss : 0.270  accuracy : 90.6 %\n",
      "4m 57s (- 6m 18s) (3300 44%) loss : 0.258  accuracy : 92.0 %\n",
      "5m 7s (- 6m 10s) (3400 45%) loss : 0.311  accuracy : 89.0 %\n",
      "5m 16s (- 6m 1s) (3500 46%) loss : 0.317  accuracy : 89.1 %\n",
      "5m 25s (- 5m 52s) (3600 48%) loss : 0.289  accuracy : 90.1 %\n",
      "5m 34s (- 5m 43s) (3700 49%) loss : 0.304  accuracy : 90.3 %\n",
      "5m 43s (- 5m 34s) (3800 50%) loss : 0.316  accuracy : 89.2 %\n",
      "5m 53s (- 5m 25s) (3900 52%) loss : 0.311  accuracy : 88.8 %\n",
      "6m 2s (- 5m 17s) (4000 53%) loss : 0.303  accuracy : 89.1 %\n",
      "6m 11s (- 5m 8s) (4100 54%) loss : 0.302  accuracy : 88.9 %\n",
      "6m 20s (- 4m 59s) (4200 56%) loss : 0.274  accuracy : 90.4 %\n",
      "6m 29s (- 4m 50s) (4300 57%) loss : 0.297  accuracy : 89.8 %\n",
      "6m 38s (- 4m 41s) (4400 58%) loss : 0.292  accuracy : 89.9 %\n",
      "6m 48s (- 4m 32s) (4500 60%) loss : 0.282  accuracy : 90.6 %\n",
      "6m 57s (- 4m 23s) (4600 61%) loss : 0.287  accuracy : 90.5 %\n",
      "7m 6s (- 4m 14s) (4700 62%) loss : 0.311  accuracy : 89.0 %\n",
      "7m 15s (- 4m 4s) (4800 64%) loss : 0.296  accuracy : 89.7 %\n",
      "7m 24s (- 3m 55s) (4900 65%) loss : 0.263  accuracy : 91.0 %\n",
      "7m 33s (- 3m 46s) (5000 66%) loss : 0.265  accuracy : 90.5 %\n",
      "7m 43s (- 3m 37s) (5100 68%) loss : 0.268  accuracy : 90.6 %\n",
      "7m 51s (- 3m 28s) (5200 69%) loss : 0.262  accuracy : 90.9 %\n",
      "8m 1s (- 3m 19s) (5300 70%) loss : 0.250  accuracy : 91.3 %\n",
      "8m 10s (- 3m 10s) (5400 72%) loss : 0.297  accuracy : 89.4 %\n",
      "8m 18s (- 3m 1s) (5500 73%) loss : 0.255  accuracy : 91.0 %\n",
      "8m 27s (- 2m 52s) (5600 74%) loss : 0.266  accuracy : 91.4 %\n",
      "8m 36s (- 2m 43s) (5700 76%) loss : 0.289  accuracy : 90.5 %\n",
      "8m 45s (- 2m 34s) (5800 77%) loss : 0.262  accuracy : 91.0 %\n",
      "8m 54s (- 2m 24s) (5900 78%) loss : 0.275  accuracy : 90.3 %\n",
      "9m 3s (- 2m 15s) (6000 80%) loss : 0.271  accuracy : 90.1 %\n",
      "9m 12s (- 2m 6s) (6100 81%) loss : 0.282  accuracy : 89.8 %\n",
      "9m 21s (- 1m 57s) (6200 82%) loss : 0.234  accuracy : 91.2 %\n",
      "9m 30s (- 1m 48s) (6300 84%) loss : 0.228  accuracy : 91.8 %\n",
      "9m 39s (- 1m 39s) (6400 85%) loss : 0.250  accuracy : 91.5 %\n",
      "9m 49s (- 1m 30s) (6500 86%) loss : 0.247  accuracy : 91.3 %\n",
      "9m 57s (- 1m 21s) (6600 88%) loss : 0.226  accuracy : 91.4 %\n",
      "10m 7s (- 1m 12s) (6700 89%) loss : 0.252  accuracy : 91.2 %\n",
      "10m 16s (- 1m 3s) (6800 90%) loss : 0.262  accuracy : 90.5 %\n",
      "10m 25s (- 0m 54s) (6900 92%) loss : 0.248  accuracy : 92.1 %\n",
      "10m 35s (- 0m 45s) (7000 93%) loss : 0.266  accuracy : 90.5 %\n",
      "10m 45s (- 0m 36s) (7100 94%) loss : 0.254  accuracy : 91.4 %\n",
      "10m 55s (- 0m 27s) (7200 96%) loss : 0.259  accuracy : 91.6 %\n",
      "11m 1s (- 0m 18s) (7300 97%) loss : 0.239  accuracy : 91.0 %\n",
      "11m 9s (- 0m 9s) (7400 98%) loss : 0.228  accuracy : 91.4 %\n",
      "11m 17s (- 0m 0s) (7500 100%) loss : 0.226  accuracy : 92.5 %\n",
      "epoch 1\n",
      "0m 6s (- 7m 44s) (100 1%) loss : 0.247  accuracy : 91.5 %\n",
      "0m 12s (- 7m 48s) (200 2%) loss : 0.227  accuracy : 91.9 %\n",
      "0m 19s (- 7m 41s) (300 4%) loss : 0.216  accuracy : 92.1 %\n",
      "0m 25s (- 7m 33s) (400 5%) loss : 0.222  accuracy : 92.3 %\n",
      "0m 31s (- 7m 27s) (500 6%) loss : 0.203  accuracy : 93.2 %\n",
      "0m 38s (- 7m 28s) (600 8%) loss : 0.231  accuracy : 92.0 %\n",
      "0m 45s (- 7m 21s) (700 9%) loss : 0.244  accuracy : 91.5 %\n",
      "0m 52s (- 7m 17s) (800 10%) loss : 0.215  accuracy : 92.6 %\n",
      "0m 59s (- 7m 13s) (900 12%) loss : 0.206  accuracy : 92.8 %\n",
      "1m 5s (- 7m 7s) (1000 13%) loss : 0.211  accuracy : 92.6 %\n",
      "1m 12s (- 7m 1s) (1100 14%) loss : 0.227  accuracy : 92.1 %\n",
      "1m 19s (- 6m 56s) (1200 16%) loss : 0.232  accuracy : 91.8 %\n",
      "1m 26s (- 6m 50s) (1300 17%) loss : 0.221  accuracy : 91.4 %\n",
      "1m 33s (- 6m 45s) (1400 18%) loss : 0.202  accuracy : 93.3 %\n",
      "1m 40s (- 6m 41s) (1500 20%) loss : 0.242  accuracy : 91.5 %\n",
      "1m 47s (- 6m 37s) (1600 21%) loss : 0.212  accuracy : 91.8 %\n",
      "1m 54s (- 6m 30s) (1700 22%) loss : 0.221  accuracy : 92.4 %\n",
      "2m 1s (- 6m 23s) (1800 24%) loss : 0.222  accuracy : 91.9 %\n",
      "2m 8s (- 6m 17s) (1900 25%) loss : 0.238  accuracy : 91.4 %\n",
      "2m 15s (- 6m 12s) (2000 26%) loss : 0.217  accuracy : 91.8 %\n",
      "2m 22s (- 6m 6s) (2100 28%) loss : 0.254  accuracy : 91.4 %\n",
      "2m 29s (- 5m 59s) (2200 29%) loss : 0.182  accuracy : 94.1 %\n",
      "2m 35s (- 5m 52s) (2300 30%) loss : 0.226  accuracy : 91.9 %\n",
      "2m 42s (- 5m 45s) (2400 32%) loss : 0.223  accuracy : 92.2 %\n",
      "2m 50s (- 5m 40s) (2500 33%) loss : 0.198  accuracy : 93.6 %\n",
      "2m 57s (- 5m 34s) (2600 34%) loss : 0.215  accuracy : 92.9 %\n",
      "3m 4s (- 5m 27s) (2700 36%) loss : 0.236  accuracy : 91.9 %\n",
      "3m 10s (- 5m 19s) (2800 37%) loss : 0.220  accuracy : 92.4 %\n",
      "3m 16s (- 5m 12s) (2900 38%) loss : 0.206  accuracy : 91.9 %\n",
      "3m 23s (- 5m 4s) (3000 40%) loss : 0.219  accuracy : 92.6 %\n",
      "3m 29s (- 4m 57s) (3100 41%) loss : 0.201  accuracy : 92.6 %\n",
      "3m 35s (- 4m 49s) (3200 42%) loss : 0.176  accuracy : 93.2 %\n",
      "3m 41s (- 4m 42s) (3300 44%) loss : 0.249  accuracy : 91.9 %\n",
      "3m 48s (- 4m 34s) (3400 45%) loss : 0.196  accuracy : 92.8 %\n",
      "3m 54s (- 4m 28s) (3500 46%) loss : 0.208  accuracy : 93.0 %\n",
      "4m 0s (- 4m 20s) (3600 48%) loss : 0.203  accuracy : 93.0 %\n",
      "4m 6s (- 4m 13s) (3700 49%) loss : 0.199  accuracy : 93.2 %\n",
      "4m 13s (- 4m 6s) (3800 50%) loss : 0.235  accuracy : 92.2 %\n",
      "4m 19s (- 3m 59s) (3900 52%) loss : 0.213  accuracy : 92.4 %\n",
      "4m 25s (- 3m 52s) (4000 53%) loss : 0.203  accuracy : 92.8 %\n",
      "4m 31s (- 3m 45s) (4100 54%) loss : 0.221  accuracy : 92.0 %\n",
      "4m 38s (- 3m 38s) (4200 56%) loss : 0.229  accuracy : 92.4 %\n",
      "4m 44s (- 3m 31s) (4300 57%) loss : 0.255  accuracy : 91.2 %\n",
      "4m 50s (- 3m 24s) (4400 58%) loss : 0.208  accuracy : 92.6 %\n",
      "4m 56s (- 3m 17s) (4500 60%) loss : 0.235  accuracy : 91.9 %\n",
      "5m 2s (- 3m 10s) (4600 61%) loss : 0.229  accuracy : 91.7 %\n",
      "5m 9s (- 3m 4s) (4700 62%) loss : 0.234  accuracy : 91.2 %\n",
      "5m 15s (- 2m 57s) (4800 64%) loss : 0.243  accuracy : 90.8 %\n",
      "5m 21s (- 2m 50s) (4900 65%) loss : 0.211  accuracy : 92.1 %\n",
      "5m 27s (- 2m 43s) (5000 66%) loss : 0.193  accuracy : 93.4 %\n",
      "5m 34s (- 2m 37s) (5100 68%) loss : 0.194  accuracy : 93.6 %\n",
      "5m 40s (- 2m 30s) (5200 69%) loss : 0.208  accuracy : 92.4 %\n",
      "5m 46s (- 2m 23s) (5300 70%) loss : 0.234  accuracy : 91.3 %\n",
      "5m 52s (- 2m 17s) (5400 72%) loss : 0.205  accuracy : 93.2 %\n",
      "5m 58s (- 2m 10s) (5500 73%) loss : 0.183  accuracy : 93.6 %\n",
      "6m 4s (- 2m 3s) (5600 74%) loss : 0.212  accuracy : 92.4 %\n",
      "6m 11s (- 1m 57s) (5700 76%) loss : 0.235  accuracy : 92.5 %\n",
      "6m 17s (- 1m 50s) (5800 77%) loss : 0.234  accuracy : 91.7 %\n",
      "6m 23s (- 1m 44s) (5900 78%) loss : 0.239  accuracy : 91.6 %\n",
      "6m 29s (- 1m 37s) (6000 80%) loss : 0.192  accuracy : 93.4 %\n",
      "6m 35s (- 1m 30s) (6100 81%) loss : 0.178  accuracy : 93.6 %\n"
     ]
    },
    {
     "name": "stdout",
     "output_type": "stream",
     "text": [
      "6m 41s (- 1m 24s) (6200 82%) loss : 0.223  accuracy : 91.6 %\n",
      "6m 48s (- 1m 17s) (6300 84%) loss : 0.203  accuracy : 92.9 %\n",
      "6m 54s (- 1m 11s) (6400 85%) loss : 0.228  accuracy : 91.2 %\n",
      "7m 0s (- 1m 4s) (6500 86%) loss : 0.226  accuracy : 91.6 %\n",
      "7m 6s (- 0m 58s) (6600 88%) loss : 0.196  accuracy : 93.2 %\n",
      "7m 13s (- 0m 51s) (6700 89%) loss : 0.185  accuracy : 93.9 %\n",
      "7m 19s (- 0m 45s) (6800 90%) loss : 0.243  accuracy : 91.6 %\n",
      "7m 25s (- 0m 38s) (6900 92%) loss : 0.226  accuracy : 92.1 %\n",
      "7m 31s (- 0m 32s) (7000 93%) loss : 0.198  accuracy : 92.7 %\n",
      "7m 37s (- 0m 25s) (7100 94%) loss : 0.233  accuracy : 91.6 %\n",
      "7m 43s (- 0m 19s) (7200 96%) loss : 0.252  accuracy : 90.9 %\n",
      "7m 50s (- 0m 12s) (7300 97%) loss : 0.222  accuracy : 91.7 %\n",
      "7m 56s (- 0m 6s) (7400 98%) loss : 0.216  accuracy : 92.7 %\n",
      "8m 2s (- 0m 0s) (7500 100%) loss : 0.228  accuracy : 92.0 %\n",
      "epoch 1\n",
      "0m 6s (- 7m 54s) (100 1%) loss : 0.211  accuracy : 92.4 %\n",
      "0m 12s (- 7m 40s) (200 2%) loss : 0.224  accuracy : 91.8 %\n",
      "0m 18s (- 7m 34s) (300 4%) loss : 0.223  accuracy : 92.0 %\n",
      "0m 25s (- 7m 24s) (400 5%) loss : 0.190  accuracy : 93.5 %\n",
      "0m 31s (- 7m 15s) (500 6%) loss : 0.199  accuracy : 93.1 %\n",
      "0m 37s (- 7m 7s) (600 8%) loss : 0.202  accuracy : 92.7 %\n",
      "0m 43s (- 7m 2s) (700 9%) loss : 0.191  accuracy : 93.2 %\n",
      "0m 49s (- 6m 56s) (800 10%) loss : 0.195  accuracy : 92.6 %\n",
      "0m 56s (- 6m 52s) (900 12%) loss : 0.193  accuracy : 92.5 %\n",
      "1m 2s (- 6m 46s) (1000 13%) loss : 0.221  accuracy : 92.2 %\n",
      "1m 8s (- 6m 40s) (1100 14%) loss : 0.192  accuracy : 93.0 %\n",
      "1m 14s (- 6m 33s) (1200 16%) loss : 0.205  accuracy : 93.0 %\n",
      "1m 20s (- 6m 26s) (1300 17%) loss : 0.210  accuracy : 92.2 %\n",
      "1m 27s (- 6m 19s) (1400 18%) loss : 0.194  accuracy : 93.6 %\n",
      "1m 33s (- 6m 12s) (1500 20%) loss : 0.231  accuracy : 91.9 %\n",
      "1m 39s (- 6m 6s) (1600 21%) loss : 0.185  accuracy : 93.4 %\n",
      "1m 45s (- 6m 0s) (1700 22%) loss : 0.214  accuracy : 92.2 %\n",
      "1m 51s (- 5m 54s) (1800 24%) loss : 0.208  accuracy : 93.1 %\n",
      "1m 58s (- 5m 48s) (1900 25%) loss : 0.193  accuracy : 93.3 %\n",
      "2m 4s (- 5m 41s) (2000 26%) loss : 0.232  accuracy : 92.2 %\n",
      "2m 10s (- 5m 35s) (2100 28%) loss : 0.215  accuracy : 91.9 %\n",
      "2m 17s (- 5m 30s) (2200 29%) loss : 0.234  accuracy : 91.6 %\n",
      "2m 23s (- 5m 23s) (2300 30%) loss : 0.202  accuracy : 92.4 %\n",
      "2m 29s (- 5m 17s) (2400 32%) loss : 0.219  accuracy : 92.1 %\n",
      "2m 35s (- 5m 11s) (2500 33%) loss : 0.207  accuracy : 92.0 %\n",
      "2m 42s (- 5m 5s) (2600 34%) loss : 0.204  accuracy : 92.5 %\n",
      "2m 48s (- 4m 59s) (2700 36%) loss : 0.203  accuracy : 93.2 %\n",
      "2m 54s (- 4m 53s) (2800 37%) loss : 0.214  accuracy : 92.5 %\n",
      "3m 0s (- 4m 46s) (2900 38%) loss : 0.218  accuracy : 92.3 %\n",
      "3m 6s (- 4m 40s) (3000 40%) loss : 0.213  accuracy : 93.3 %\n",
      "3m 13s (- 4m 33s) (3100 41%) loss : 0.220  accuracy : 92.8 %\n",
      "3m 20s (- 4m 28s) (3200 42%) loss : 0.194  accuracy : 93.4 %\n",
      "3m 26s (- 4m 22s) (3300 44%) loss : 0.207  accuracy : 92.5 %\n",
      "3m 32s (- 4m 16s) (3400 45%) loss : 0.203  accuracy : 92.7 %\n",
      "3m 38s (- 4m 10s) (3500 46%) loss : 0.212  accuracy : 92.1 %\n",
      "3m 45s (- 4m 4s) (3600 48%) loss : 0.213  accuracy : 92.5 %\n",
      "3m 51s (- 3m 58s) (3700 49%) loss : 0.206  accuracy : 93.0 %\n",
      "3m 58s (- 3m 51s) (3800 50%) loss : 0.208  accuracy : 92.5 %\n",
      "4m 4s (- 3m 45s) (3900 52%) loss : 0.188  accuracy : 93.6 %\n",
      "4m 10s (- 3m 39s) (4000 53%) loss : 0.197  accuracy : 92.9 %\n",
      "4m 17s (- 3m 33s) (4100 54%) loss : 0.188  accuracy : 93.4 %\n",
      "4m 23s (- 3m 26s) (4200 56%) loss : 0.233  accuracy : 91.2 %\n",
      "4m 29s (- 3m 20s) (4300 57%) loss : 0.210  accuracy : 92.4 %\n",
      "4m 35s (- 3m 13s) (4400 58%) loss : 0.228  accuracy : 91.9 %\n",
      "4m 41s (- 3m 7s) (4500 60%) loss : 0.233  accuracy : 92.9 %\n",
      "4m 47s (- 3m 1s) (4600 61%) loss : 0.181  accuracy : 93.5 %\n",
      "4m 53s (- 2m 55s) (4700 62%) loss : 0.202  accuracy : 92.1 %\n",
      "5m 0s (- 2m 48s) (4800 64%) loss : 0.201  accuracy : 92.9 %\n",
      "5m 6s (- 2m 42s) (4900 65%) loss : 0.240  accuracy : 91.2 %\n",
      "5m 12s (- 2m 36s) (5000 66%) loss : 0.200  accuracy : 93.2 %\n",
      "5m 18s (- 2m 29s) (5100 68%) loss : 0.209  accuracy : 92.4 %\n",
      "5m 24s (- 2m 23s) (5200 69%) loss : 0.195  accuracy : 93.3 %\n",
      "5m 31s (- 2m 17s) (5300 70%) loss : 0.219  accuracy : 92.3 %\n",
      "5m 37s (- 2m 11s) (5400 72%) loss : 0.202  accuracy : 93.5 %\n",
      "5m 43s (- 2m 4s) (5500 73%) loss : 0.194  accuracy : 92.6 %\n",
      "5m 50s (- 1m 58s) (5600 74%) loss : 0.205  accuracy : 93.3 %\n",
      "5m 56s (- 1m 52s) (5700 76%) loss : 0.207  accuracy : 92.2 %\n",
      "6m 3s (- 1m 46s) (5800 77%) loss : 0.225  accuracy : 92.3 %\n",
      "6m 9s (- 1m 40s) (5900 78%) loss : 0.215  accuracy : 92.4 %\n",
      "6m 16s (- 1m 34s) (6000 80%) loss : 0.200  accuracy : 93.7 %\n",
      "6m 22s (- 1m 27s) (6100 81%) loss : 0.169  accuracy : 93.3 %\n",
      "6m 28s (- 1m 21s) (6200 82%) loss : 0.212  accuracy : 92.6 %\n",
      "6m 34s (- 1m 15s) (6300 84%) loss : 0.189  accuracy : 92.9 %\n",
      "6m 40s (- 1m 8s) (6400 85%) loss : 0.230  accuracy : 91.8 %\n",
      "6m 46s (- 1m 2s) (6500 86%) loss : 0.206  accuracy : 92.9 %\n",
      "6m 52s (- 0m 56s) (6600 88%) loss : 0.208  accuracy : 91.8 %\n",
      "6m 58s (- 0m 50s) (6700 89%) loss : 0.207  accuracy : 92.5 %\n",
      "7m 5s (- 0m 43s) (6800 90%) loss : 0.192  accuracy : 93.4 %\n",
      "7m 11s (- 0m 37s) (6900 92%) loss : 0.226  accuracy : 92.4 %\n",
      "7m 17s (- 0m 31s) (7000 93%) loss : 0.216  accuracy : 92.1 %\n",
      "7m 23s (- 0m 24s) (7100 94%) loss : 0.200  accuracy : 92.7 %\n",
      "7m 29s (- 0m 18s) (7200 96%) loss : 0.209  accuracy : 92.8 %\n",
      "7m 35s (- 0m 12s) (7300 97%) loss : 0.197  accuracy : 93.1 %\n",
      "7m 42s (- 0m 6s) (7400 98%) loss : 0.227  accuracy : 92.6 %\n",
      "7m 48s (- 0m 0s) (7500 100%) loss : 0.188  accuracy : 93.6 %\n",
      "epoch 1\n",
      "0m 8s (- 10m 21s) (100 1%) loss : 0.183  accuracy : 93.2 %\n",
      "0m 16s (- 10m 6s) (200 2%) loss : 0.205  accuracy : 92.6 %\n",
      "0m 24s (- 9m 59s) (300 4%) loss : 0.214  accuracy : 92.1 %\n",
      "0m 33s (- 9m 52s) (400 5%) loss : 0.204  accuracy : 92.5 %\n",
      "0m 41s (- 9m 44s) (500 6%) loss : 0.217  accuracy : 92.8 %\n",
      "0m 50s (- 9m 36s) (600 8%) loss : 0.188  accuracy : 93.4 %\n",
      "0m 58s (- 9m 27s) (700 9%) loss : 0.205  accuracy : 92.9 %\n",
      "1m 6s (- 9m 19s) (800 10%) loss : 0.172  accuracy : 94.3 %\n",
      "1m 15s (- 9m 11s) (900 12%) loss : 0.206  accuracy : 92.4 %\n",
      "1m 24s (- 9m 6s) (1000 13%) loss : 0.217  accuracy : 92.8 %\n",
      "1m 32s (- 9m 0s) (1100 14%) loss : 0.207  accuracy : 91.9 %\n",
      "1m 41s (- 8m 53s) (1200 16%) loss : 0.246  accuracy : 92.3 %\n",
      "1m 50s (- 8m 47s) (1300 17%) loss : 0.199  accuracy : 93.5 %\n",
      "1m 59s (- 8m 39s) (1400 18%) loss : 0.219  accuracy : 92.4 %\n",
      "2m 7s (- 8m 30s) (1500 20%) loss : 0.196  accuracy : 93.7 %\n",
      "2m 16s (- 8m 22s) (1600 21%) loss : 0.199  accuracy : 93.0 %\n",
      "2m 24s (- 8m 14s) (1700 22%) loss : 0.183  accuracy : 93.4 %\n",
      "2m 33s (- 8m 6s) (1800 24%) loss : 0.210  accuracy : 92.2 %\n",
      "2m 42s (- 7m 57s) (1900 25%) loss : 0.211  accuracy : 92.2 %\n",
      "2m 50s (- 7m 48s) (2000 26%) loss : 0.194  accuracy : 92.6 %\n",
      "2m 58s (- 7m 40s) (2100 28%) loss : 0.224  accuracy : 92.5 %\n",
      "3m 7s (- 7m 31s) (2200 29%) loss : 0.201  accuracy : 93.0 %\n",
      "3m 15s (- 7m 22s) (2300 30%) loss : 0.213  accuracy : 92.0 %\n",
      "3m 24s (- 7m 13s) (2400 32%) loss : 0.198  accuracy : 93.6 %\n",
      "3m 32s (- 7m 5s) (2500 33%) loss : 0.197  accuracy : 93.3 %\n",
      "3m 40s (- 6m 56s) (2600 34%) loss : 0.208  accuracy : 92.6 %\n",
      "3m 49s (- 6m 47s) (2700 36%) loss : 0.218  accuracy : 92.6 %\n",
      "3m 57s (- 6m 39s) (2800 37%) loss : 0.193  accuracy : 93.2 %\n",
      "4m 6s (- 6m 30s) (2900 38%) loss : 0.203  accuracy : 93.1 %\n",
      "4m 14s (- 6m 21s) (3000 40%) loss : 0.191  accuracy : 93.2 %\n",
      "4m 22s (- 6m 13s) (3100 41%) loss : 0.182  accuracy : 93.9 %\n",
      "4m 31s (- 6m 5s) (3200 42%) loss : 0.206  accuracy : 92.9 %\n",
      "4m 40s (- 5m 56s) (3300 44%) loss : 0.177  accuracy : 93.4 %\n",
      "4m 48s (- 5m 48s) (3400 45%) loss : 0.190  accuracy : 93.0 %\n",
      "4m 57s (- 5m 39s) (3500 46%) loss : 0.180  accuracy : 93.5 %\n",
      "5m 5s (- 5m 31s) (3600 48%) loss : 0.213  accuracy : 92.8 %\n",
      "5m 14s (- 5m 22s) (3700 49%) loss : 0.214  accuracy : 92.2 %\n",
      "5m 22s (- 5m 14s) (3800 50%) loss : 0.191  accuracy : 93.1 %\n",
      "5m 31s (- 5m 5s) (3900 52%) loss : 0.197  accuracy : 93.2 %\n",
      "5m 39s (- 4m 57s) (4000 53%) loss : 0.193  accuracy : 93.1 %\n",
      "5m 48s (- 4m 48s) (4100 54%) loss : 0.166  accuracy : 94.1 %\n",
      "5m 56s (- 4m 40s) (4200 56%) loss : 0.197  accuracy : 93.1 %\n",
      "6m 4s (- 4m 31s) (4300 57%) loss : 0.207  accuracy : 92.5 %\n",
      "6m 13s (- 4m 22s) (4400 58%) loss : 0.205  accuracy : 93.3 %\n",
      "6m 21s (- 4m 14s) (4500 60%) loss : 0.204  accuracy : 93.2 %\n",
      "6m 29s (- 4m 5s) (4600 61%) loss : 0.209  accuracy : 92.7 %\n",
      "6m 38s (- 3m 57s) (4700 62%) loss : 0.212  accuracy : 91.9 %\n"
     ]
    },
    {
     "name": "stdout",
     "output_type": "stream",
     "text": [
      "6m 47s (- 3m 48s) (4800 64%) loss : 0.184  accuracy : 93.4 %\n",
      "6m 55s (- 3m 40s) (4900 65%) loss : 0.199  accuracy : 92.9 %\n",
      "7m 4s (- 3m 32s) (5000 66%) loss : 0.185  accuracy : 93.2 %\n",
      "7m 12s (- 3m 23s) (5100 68%) loss : 0.179  accuracy : 93.4 %\n",
      "7m 20s (- 3m 14s) (5200 69%) loss : 0.154  accuracy : 94.7 %\n",
      "7m 29s (- 3m 6s) (5300 70%) loss : 0.205  accuracy : 93.1 %\n",
      "7m 37s (- 2m 58s) (5400 72%) loss : 0.198  accuracy : 93.5 %\n",
      "7m 46s (- 2m 49s) (5500 73%) loss : 0.225  accuracy : 91.8 %\n",
      "7m 55s (- 2m 41s) (5600 74%) loss : 0.212  accuracy : 92.4 %\n",
      "8m 4s (- 2m 32s) (5700 76%) loss : 0.205  accuracy : 92.9 %\n",
      "8m 12s (- 2m 24s) (5800 77%) loss : 0.198  accuracy : 93.1 %\n",
      "8m 21s (- 2m 15s) (5900 78%) loss : 0.197  accuracy : 92.9 %\n",
      "8m 29s (- 2m 7s) (6000 80%) loss : 0.191  accuracy : 93.5 %\n",
      "8m 37s (- 1m 58s) (6100 81%) loss : 0.216  accuracy : 92.5 %\n",
      "8m 45s (- 1m 50s) (6200 82%) loss : 0.209  accuracy : 92.8 %\n",
      "8m 54s (- 1m 41s) (6300 84%) loss : 0.203  accuracy : 92.8 %\n",
      "9m 2s (- 1m 33s) (6400 85%) loss : 0.214  accuracy : 92.3 %\n",
      "9m 11s (- 1m 24s) (6500 86%) loss : 0.188  accuracy : 93.9 %\n",
      "9m 19s (- 1m 16s) (6600 88%) loss : 0.187  accuracy : 93.9 %\n",
      "9m 28s (- 1m 7s) (6700 89%) loss : 0.214  accuracy : 92.2 %\n",
      "9m 37s (- 0m 59s) (6800 90%) loss : 0.206  accuracy : 92.6 %\n",
      "9m 45s (- 0m 50s) (6900 92%) loss : 0.188  accuracy : 93.2 %\n",
      "9m 53s (- 0m 42s) (7000 93%) loss : 0.161  accuracy : 94.6 %\n",
      "10m 2s (- 0m 33s) (7100 94%) loss : 0.206  accuracy : 91.9 %\n",
      "10m 10s (- 0m 25s) (7200 96%) loss : 0.230  accuracy : 92.1 %\n",
      "10m 18s (- 0m 16s) (7300 97%) loss : 0.235  accuracy : 91.9 %\n",
      "10m 27s (- 0m 8s) (7400 98%) loss : 0.198  accuracy : 93.4 %\n",
      "10m 36s (- 0m 0s) (7500 100%) loss : 0.230  accuracy : 91.6 %\n"
     ]
    }
   ],
   "source": [
    "classifier.train()\n",
    "classifier.fit(batches, epochs = 1, lr = 0.001, print_every = 100)\n",
    "classifier.fit(batches, epochs = 1, lr = 0.0001, print_every = 100)\n",
    "classifier.fit(batches, epochs = 1, lr = 0.00005, print_every = 100)\n",
    "\n",
    "# start word2vec finetuning\n",
    "classifier.word2vec = classifier.word2vec.twin.unfreeze()\n",
    "\n",
    "classifier.fit(batches, epochs = 1, lr = 0.00005, print_every = 100)"
   ]
  },
  {
   "cell_type": "code",
   "execution_count": 93,
   "metadata": {},
   "outputs": [],
   "source": [
    "# save\n",
    "#torch.save(classifier.state_dict(), path_to_DL4NLP + '\\\\saves\\\\DL4NLP_I2_sentence_classifier.pth')\n",
    "\n",
    "# load\n",
    "#classifier.load_state_dict(torch.load(path_to_DL4NLP + '\\\\saves\\\\DL4NLP_I2_sentence_classifier.pth'))"
   ]
  },
  {
   "cell_type": "markdown",
   "metadata": {},
   "source": [
    "#### Evaluation single-head"
   ]
  },
  {
   "cell_type": "code",
   "execution_count": 42,
   "metadata": {
    "scrolled": true
   },
   "outputs": [
    {
     "data": {
      "text/plain": [
       "'Storage servers bruise HP earnings . update Earnings per share rise compared with a year'"
      ]
     },
     "execution_count": 42,
     "metadata": {},
     "output_type": "execute_result"
    }
   ],
   "source": [
    "sentence = 'Storage servers bruise HP earnings . update Earnings per share rise compared with a year'\n",
    "sentence"
   ]
  },
  {
   "cell_type": "code",
   "execution_count": 39,
   "metadata": {},
   "outputs": [
    {
     "data": {
      "image/png": "[encoded data removed]",
      "text/plain": [
       "<Figure size 432x288 with 1 Axes>"
      ]
     },
     "metadata": {
      "needs_background": "light"
     },
     "output_type": "display_data"
    },
    {
     "name": "stdout",
     "output_type": "stream",
     "text": [
      "\u001b[48;2;256;245;240mstorage\u001b[0m \u001b[48;2;256;245;240mservers\u001b[0m \u001b[48;2;256;245;240mbruise\u001b[0m \u001b[48;2;256;245;240mhp\u001b[0m \u001b[48;2;256;245;240mearnings\u001b[0m \u001b[48;2;256;245;240m.\u001b[0m \u001b[48;2;256;245;240mupdate\u001b[0m \u001b[48;2;256;245;240mearnings\u001b[0m \u001b[48;2;256;245;240mper\u001b[0m \u001b[48;2;256;245;240mshare\u001b[0m \u001b[48;2;256;245;240mrise\u001b[0m \u001b[48;2;256;245;240mcompared\u001b[0m \u001b[48;2;256;245;240mwith\u001b[0m \u001b[48;2;256;245;240ma\u001b[0m \u001b[48;2;256;245;240myear\u001b[0m \n",
      "\n"
     ]
    },
    {
     "data": {
      "text/plain": [
       "3"
      ]
     },
     "execution_count": 39,
     "metadata": {},
     "output_type": "execute_result"
    }
   ],
   "source": [
    "# attention heads = 1\n",
    "classifier.eval()\n",
    "classifier(sentence, attention_method = AttentionViewer)\n",
    "classifier(sentence, attention_method = AttentionViewerOnWords)"
   ]
  },
  {
   "cell_type": "code",
   "execution_count": 40,
   "metadata": {},
   "outputs": [
    {
     "data": {
      "text/plain": [
       "92.46052631578948"
      ]
     },
     "execution_count": 40,
     "metadata": {},
     "output_type": "execute_result"
    }
   ],
   "source": [
    "classifier.eval()\n",
    "classifier.compute_accuracy(labelled_sentences_tst)"
   ]
  },
  {
   "cell_type": "markdown",
   "metadata": {},
   "source": [
    "#### Evaluation multi-head without penalization"
   ]
  },
  {
   "cell_type": "code",
   "execution_count": 42,
   "metadata": {
    "scrolled": true
   },
   "outputs": [
    {
     "data": {
      "text/plain": [
       "'Storage servers bruise HP earnings . update Earnings per share rise compared with a year'"
      ]
     },
     "execution_count": 42,
     "metadata": {},
     "output_type": "execute_result"
    }
   ],
   "source": [
    "sentence = 'Storage servers bruise HP earnings . update Earnings per share rise compared with a year'\n",
    "sentence"
   ]
  },
  {
   "cell_type": "code",
   "execution_count": 91,
   "metadata": {},
   "outputs": [
    {
     "data": {
      "image/png": "[encoded data removed]",
      "text/plain": [
       "<Figure size 432x288 with 1 Axes>"
      ]
     },
     "metadata": {
      "needs_background": "light"
     },
     "output_type": "display_data"
    },
    {
     "name": "stdout",
     "output_type": "stream",
     "text": [
      "\u001b[48;2;256;245;240mstorage\u001b[0m \u001b[48;2;256;245;240mservers\u001b[0m \u001b[48;2;256;245;240mbruise\u001b[0m \u001b[48;2;256;245;240mhp\u001b[0m \u001b[48;2;256;245;240mearnings\u001b[0m \u001b[48;2;256;245;240m.\u001b[0m \u001b[48;2;256;245;240mupdate\u001b[0m \u001b[48;2;256;245;240mearnings\u001b[0m \u001b[48;2;256;245;240mper\u001b[0m \u001b[48;2;256;245;240mshare\u001b[0m \u001b[48;2;256;245;240mrise\u001b[0m \u001b[48;2;256;245;240mcompared\u001b[0m \u001b[48;2;256;245;240mwith\u001b[0m \u001b[48;2;256;245;240ma\u001b[0m \u001b[48;2;256;245;240myear\u001b[0m  - head 1\n",
      "\u001b[48;2;256;245;240mstorage\u001b[0m \u001b[48;2;255;229;217mservers\u001b[0m \u001b[48;2;256;245;240mbruise\u001b[0m \u001b[48;2;255;229;217mhp\u001b[0m \u001b[48;2;256;245;240mearnings\u001b[0m \u001b[48;2;256;245;240m.\u001b[0m \u001b[48;2;256;245;240mupdate\u001b[0m \u001b[48;2;256;245;240mearnings\u001b[0m \u001b[48;2;256;245;240mper\u001b[0m \u001b[48;2;256;245;240mshare\u001b[0m \u001b[48;2;256;245;240mrise\u001b[0m \u001b[48;2;256;245;240mcompared\u001b[0m \u001b[48;2;256;245;240mwith\u001b[0m \u001b[48;2;256;245;240ma\u001b[0m \u001b[48;2;256;245;240myear\u001b[0m  - head 2\n",
      "\n"
     ]
    },
    {
     "data": {
      "text/plain": [
       "3"
      ]
     },
     "execution_count": 91,
     "metadata": {},
     "output_type": "execute_result"
    }
   ],
   "source": [
    "# attention heads = 2\n",
    "classifier.eval()\n",
    "classifier(sentence, attention_method = AttentionViewer)\n",
    "classifier(sentence, attention_method = AttentionViewerOnWords)"
   ]
  },
  {
   "cell_type": "code",
   "execution_count": 92,
   "metadata": {},
   "outputs": [
    {
     "data": {
      "text/plain": [
       "92.53947368421052"
      ]
     },
     "execution_count": 92,
     "metadata": {},
     "output_type": "execute_result"
    }
   ],
   "source": [
    "classifier.eval()\n",
    "classifier.compute_accuracy(labelled_sentences_tst, batch_size = 16)"
   ]
  },
  {
   "cell_type": "code",
   "execution_count": 136,
   "metadata": {},
   "outputs": [
    {
     "data": {
      "image/png": "[encoded data removed]",
      "text/plain": [
       "<Figure size 432x288 with 1 Axes>"
      ]
     },
     "metadata": {
      "needs_background": "light"
     },
     "output_type": "display_data"
    },
    {
     "name": "stdout",
     "output_type": "stream",
     "text": [
      "\u001b[48;2;256;245;240mstorage\u001b[0m \u001b[48;2;256;245;240mservers\u001b[0m \u001b[48;2;256;245;240mbruise\u001b[0m \u001b[48;2;256;245;240mhp\u001b[0m \u001b[48;2;256;245;240mearnings\u001b[0m \u001b[48;2;256;245;240m.\u001b[0m \u001b[48;2;256;245;240mupdate\u001b[0m \u001b[48;2;256;245;240mearnings\u001b[0m \u001b[48;2;256;245;240mper\u001b[0m \u001b[48;2;256;245;240mshare\u001b[0m \u001b[48;2;256;245;240mrise\u001b[0m \u001b[48;2;256;245;240mcompared\u001b[0m \u001b[48;2;256;245;240mwith\u001b[0m \u001b[48;2;256;245;240ma\u001b[0m \u001b[48;2;256;245;240myear\u001b[0m  - head 1\n",
      "\u001b[48;2;256;245;240mstorage\u001b[0m \u001b[48;2;256;245;240mservers\u001b[0m \u001b[48;2;256;245;240mbruise\u001b[0m \u001b[48;2;256;245;240mhp\u001b[0m \u001b[48;2;256;245;240mearnings\u001b[0m \u001b[48;2;256;245;240m.\u001b[0m \u001b[48;2;256;245;240mupdate\u001b[0m \u001b[48;2;256;245;240mearnings\u001b[0m \u001b[48;2;256;245;240mper\u001b[0m \u001b[48;2;256;245;240mshare\u001b[0m \u001b[48;2;256;245;240mrise\u001b[0m \u001b[48;2;256;245;240mcompared\u001b[0m \u001b[48;2;256;245;240mwith\u001b[0m \u001b[48;2;256;245;240ma\u001b[0m \u001b[48;2;256;245;240myear\u001b[0m  - head 2\n",
      "\u001b[48;2;256;245;240mstorage\u001b[0m \u001b[48;2;255;229;217mservers\u001b[0m \u001b[48;2;256;245;240mbruise\u001b[0m \u001b[48;2;255;229;217mhp\u001b[0m \u001b[48;2;256;245;240mearnings\u001b[0m \u001b[48;2;256;245;240m.\u001b[0m \u001b[48;2;256;245;240mupdate\u001b[0m \u001b[48;2;256;245;240mearnings\u001b[0m \u001b[48;2;256;245;240mper\u001b[0m \u001b[48;2;256;245;240mshare\u001b[0m \u001b[48;2;256;245;240mrise\u001b[0m \u001b[48;2;256;245;240mcompared\u001b[0m \u001b[48;2;256;245;240mwith\u001b[0m \u001b[48;2;256;245;240ma\u001b[0m \u001b[48;2;256;245;240myear\u001b[0m  - head 3\n",
      "\n"
     ]
    },
    {
     "data": {
      "text/plain": [
       "3"
      ]
     },
     "execution_count": 136,
     "metadata": {},
     "output_type": "execute_result"
    }
   ],
   "source": [
    "# attention heads = 3\n",
    "classifier.eval()\n",
    "classifier(sentence, attention_method = AttentionViewer)\n",
    "classifier(sentence, attention_method = AttentionViewerOnWords)"
   ]
  },
  {
   "cell_type": "code",
   "execution_count": 137,
   "metadata": {},
   "outputs": [
    {
     "data": {
      "text/plain": [
       "92.73684210526316"
      ]
     },
     "execution_count": 137,
     "metadata": {},
     "output_type": "execute_result"
    }
   ],
   "source": [
    "classifier.eval()\n",
    "classifier.compute_accuracy(labelled_sentences_tst, batch_size = 16)"
   ]
  },
  {
   "cell_type": "code",
   "execution_count": 31,
   "metadata": {},
   "outputs": [
    {
     "data": {
      "image/png": "[encoded data removed]",
      "text/plain": [
       "<Figure size 432x288 with 1 Axes>"
      ]
     },
     "metadata": {
      "needs_background": "light"
     },
     "output_type": "display_data"
    },
    {
     "name": "stdout",
     "output_type": "stream",
     "text": [
      "\u001b[48;2;256;245;240mstorage\u001b[0m \u001b[48;2;256;245;240mservers\u001b[0m \u001b[48;2;256;245;240mbruise\u001b[0m \u001b[48;2;256;245;240mhp\u001b[0m \u001b[48;2;256;245;240mearnings\u001b[0m \u001b[48;2;256;245;240m.\u001b[0m \u001b[48;2;256;245;240mupdate\u001b[0m \u001b[48;2;256;245;240mearnings\u001b[0m \u001b[48;2;256;245;240mper\u001b[0m \u001b[48;2;256;245;240mshare\u001b[0m \u001b[48;2;256;245;240mrise\u001b[0m \u001b[48;2;256;245;240mcompared\u001b[0m \u001b[48;2;256;245;240mwith\u001b[0m \u001b[48;2;256;245;240ma\u001b[0m \u001b[48;2;256;245;240myear\u001b[0m  - head 1\n",
      "\u001b[48;2;256;245;240mstorage\u001b[0m \u001b[48;2;256;245;240mservers\u001b[0m \u001b[48;2;256;245;240mbruise\u001b[0m \u001b[48;2;256;245;240mhp\u001b[0m \u001b[48;2;256;245;240mearnings\u001b[0m \u001b[48;2;256;245;240m.\u001b[0m \u001b[48;2;256;245;240mupdate\u001b[0m \u001b[48;2;256;245;240mearnings\u001b[0m \u001b[48;2;256;245;240mper\u001b[0m \u001b[48;2;256;245;240mshare\u001b[0m \u001b[48;2;256;245;240mrise\u001b[0m \u001b[48;2;256;245;240mcompared\u001b[0m \u001b[48;2;256;245;240mwith\u001b[0m \u001b[48;2;256;245;240ma\u001b[0m \u001b[48;2;256;245;240myear\u001b[0m  - head 2\n",
      "\u001b[48;2;256;245;240mstorage\u001b[0m \u001b[48;2;256;245;240mservers\u001b[0m \u001b[48;2;256;245;240mbruise\u001b[0m \u001b[48;2;256;245;240mhp\u001b[0m \u001b[48;2;256;245;240mearnings\u001b[0m \u001b[48;2;256;245;240m.\u001b[0m \u001b[48;2;256;245;240mupdate\u001b[0m \u001b[48;2;256;245;240mearnings\u001b[0m \u001b[48;2;256;245;240mper\u001b[0m \u001b[48;2;256;245;240mshare\u001b[0m \u001b[48;2;256;245;240mrise\u001b[0m \u001b[48;2;256;245;240mcompared\u001b[0m \u001b[48;2;256;245;240mwith\u001b[0m \u001b[48;2;256;245;240ma\u001b[0m \u001b[48;2;256;245;240myear\u001b[0m  - head 3\n",
      "\u001b[48;2;255;229;217mstorage\u001b[0m \u001b[48;2;255;229;217mservers\u001b[0m \u001b[48;2;255;229;217mbruise\u001b[0m \u001b[48;2;256;245;240mhp\u001b[0m \u001b[48;2;256;245;240mearnings\u001b[0m \u001b[48;2;256;245;240m.\u001b[0m \u001b[48;2;256;245;240mupdate\u001b[0m \u001b[48;2;256;245;240mearnings\u001b[0m \u001b[48;2;256;245;240mper\u001b[0m \u001b[48;2;256;245;240mshare\u001b[0m \u001b[48;2;256;245;240mrise\u001b[0m \u001b[48;2;256;245;240mcompared\u001b[0m \u001b[48;2;256;245;240mwith\u001b[0m \u001b[48;2;256;245;240ma\u001b[0m \u001b[48;2;256;245;240myear\u001b[0m  - head 4\n",
      "\n"
     ]
    },
    {
     "data": {
      "text/plain": [
       "3"
      ]
     },
     "execution_count": 31,
     "metadata": {},
     "output_type": "execute_result"
    }
   ],
   "source": [
    "# attention heads = 3\n",
    "classifier.eval()\n",
    "classifier(sentence, attention_method = AttentionViewer)\n",
    "classifier(sentence, attention_method = AttentionViewerOnWords)"
   ]
  },
  {
   "cell_type": "code",
   "execution_count": 32,
   "metadata": {},
   "outputs": [
    {
     "data": {
      "text/plain": [
       "92.76315789473684"
      ]
     },
     "execution_count": 32,
     "metadata": {},
     "output_type": "execute_result"
    }
   ],
   "source": [
    "classifier.eval()\n",
    "classifier.compute_accuracy(labelled_sentences_tst, batch_size = 16)"
   ]
  },
  {
   "cell_type": "markdown",
   "metadata": {},
   "source": [
    "#### Evaluation multi-head with penalization"
   ]
  },
  {
   "cell_type": "code",
   "execution_count": 82,
   "metadata": {
    "scrolled": true
   },
   "outputs": [
    {
     "data": {
      "text/plain": [
       "'Storage servers bruise HP earnings . update Earnings per share rise compared with a year'"
      ]
     },
     "execution_count": 82,
     "metadata": {},
     "output_type": "execute_result"
    }
   ],
   "source": [
    "sentence = 'Storage servers bruise HP earnings . update Earnings per share rise compared with a year'\n",
    "sentence"
   ]
  },
  {
   "cell_type": "code",
   "execution_count": 83,
   "metadata": {
    "scrolled": true
   },
   "outputs": [
    {
     "data": {
      "image/png": "[encoded data removed]",
      "text/plain": [
       "<Figure size 432x288 with 1 Axes>"
      ]
     },
     "metadata": {
      "needs_background": "light"
     },
     "output_type": "display_data"
    },
    {
     "name": "stdout",
     "output_type": "stream",
     "text": [
      "\u001b[48;2;217;37;34mStorage\u001b[0m \u001b[48;2;256;245;240mservers\u001b[0m \u001b[48;2;256;245;240mbruise\u001b[0m \u001b[48;2;256;245;240mHP\u001b[0m \u001b[48;2;256;245;240mearnings\u001b[0m \u001b[48;2;256;245;240m.\u001b[0m \u001b[48;2;256;245;240mupdate\u001b[0m \u001b[48;2;256;245;240mEarnings\u001b[0m \u001b[48;2;256;245;240mper\u001b[0m \u001b[48;2;256;245;240mshare\u001b[0m \u001b[48;2;256;245;240mrise\u001b[0m \u001b[48;2;256;245;240mcompared\u001b[0m \u001b[48;2;256;245;240mwith\u001b[0m \u001b[48;2;256;245;240ma\u001b[0m \u001b[48;2;256;245;240myear\u001b[0m  - head 1\n",
      "\u001b[48;2;256;245;240mStorage\u001b[0m \u001b[48;2;256;245;240mservers\u001b[0m \u001b[48;2;256;245;240mbruise\u001b[0m \u001b[48;2;256;245;240mHP\u001b[0m \u001b[48;2;256;245;240mearnings\u001b[0m \u001b[48;2;256;245;240m.\u001b[0m \u001b[48;2;256;245;240mupdate\u001b[0m \u001b[48;2;256;245;240mEarnings\u001b[0m \u001b[48;2;256;245;240mper\u001b[0m \u001b[48;2;256;245;240mshare\u001b[0m \u001b[48;2;256;245;240mrise\u001b[0m \u001b[48;2;256;245;240mcompared\u001b[0m \u001b[48;2;256;245;240mwith\u001b[0m \u001b[48;2;256;245;240ma\u001b[0m \u001b[48;2;217;37;34myear\u001b[0m  - head 2\n",
      "\u001b[48;2;256;245;240mStorage\u001b[0m \u001b[48;2;256;245;240mservers\u001b[0m \u001b[48;2;256;245;240mbruise\u001b[0m \u001b[48;2;256;245;240mHP\u001b[0m \u001b[48;2;256;245;240mearnings\u001b[0m \u001b[48;2;256;245;240m.\u001b[0m \u001b[48;2;256;245;240mupdate\u001b[0m \u001b[48;2;256;245;240mEarnings\u001b[0m \u001b[48;2;256;245;240mper\u001b[0m \u001b[48;2;242;68;50mshare\u001b[0m \u001b[48;2;256;245;240mrise\u001b[0m \u001b[48;2;256;245;240mcompared\u001b[0m \u001b[48;2;256;245;240mwith\u001b[0m \u001b[48;2;256;245;240ma\u001b[0m \u001b[48;2;256;245;240myear\u001b[0m  - head 3\n",
      "\n"
     ]
    },
    {
     "data": {
      "text/plain": [
       "3"
      ]
     },
     "execution_count": 83,
     "metadata": {},
     "output_type": "execute_result"
    }
   ],
   "source": [
    "# attention heads = 3\n",
    "classifier.eval()\n",
    "classifier(sentence, attention_method = AttentionViewer)\n",
    "classifier(sentence, attention_method = AttentionViewerOnWords)"
   ]
  },
  {
   "cell_type": "code",
   "execution_count": 35,
   "metadata": {},
   "outputs": [
    {
     "data": {
      "image/png": "[encoded data removed]",
      "text/plain": [
       "<Figure size 432x288 with 1 Axes>"
      ]
     },
     "metadata": {
      "needs_background": "light"
     },
     "output_type": "display_data"
    },
    {
     "name": "stdout",
     "output_type": "stream",
     "text": [
      "\u001b[48;2;256;245;240mstorage\u001b[0m \u001b[48;2;256;245;240mservers\u001b[0m \u001b[48;2;256;245;240mbruise\u001b[0m \u001b[48;2;256;245;240mhp\u001b[0m \u001b[48;2;256;245;240mearnings\u001b[0m \u001b[48;2;256;245;240m.\u001b[0m \u001b[48;2;256;245;240mupdate\u001b[0m \u001b[48;2;256;245;240mearnings\u001b[0m \u001b[48;2;256;245;240mper\u001b[0m \u001b[48;2;256;245;240mshare\u001b[0m \u001b[48;2;256;245;240mrise\u001b[0m \u001b[48;2;256;245;240mcompared\u001b[0m \u001b[48;2;256;245;240mwith\u001b[0m \u001b[48;2;256;245;240ma\u001b[0m \u001b[48;2;256;245;240myear\u001b[0m  - head 1\n",
      "\u001b[48;2;255;229;217mstorage\u001b[0m \u001b[48;2;255;229;217mservers\u001b[0m \u001b[48;2;256;245;240mbruise\u001b[0m \u001b[48;2;253;202;181mhp\u001b[0m \u001b[48;2;256;245;240mearnings\u001b[0m \u001b[48;2;256;245;240m.\u001b[0m \u001b[48;2;256;245;240mupdate\u001b[0m \u001b[48;2;256;245;240mearnings\u001b[0m \u001b[48;2;256;245;240mper\u001b[0m \u001b[48;2;256;245;240mshare\u001b[0m \u001b[48;2;256;245;240mrise\u001b[0m \u001b[48;2;256;245;240mcompared\u001b[0m \u001b[48;2;256;245;240mwith\u001b[0m \u001b[48;2;256;245;240ma\u001b[0m \u001b[48;2;256;245;240myear\u001b[0m  - head 2\n",
      "\u001b[48;2;256;245;240mstorage\u001b[0m \u001b[48;2;256;245;240mservers\u001b[0m \u001b[48;2;256;245;240mbruise\u001b[0m \u001b[48;2;255;229;217mhp\u001b[0m \u001b[48;2;256;245;240mearnings\u001b[0m \u001b[48;2;256;245;240m.\u001b[0m \u001b[48;2;256;245;240mupdate\u001b[0m \u001b[48;2;256;245;240mearnings\u001b[0m \u001b[48;2;256;245;240mper\u001b[0m \u001b[48;2;256;245;240mshare\u001b[0m \u001b[48;2;256;245;240mrise\u001b[0m \u001b[48;2;256;245;240mcompared\u001b[0m \u001b[48;2;256;245;240mwith\u001b[0m \u001b[48;2;256;245;240ma\u001b[0m \u001b[48;2;256;245;240myear\u001b[0m  - head 3\n",
      "\n"
     ]
    },
    {
     "data": {
      "text/plain": [
       "3"
      ]
     },
     "execution_count": 35,
     "metadata": {},
     "output_type": "execute_result"
    }
   ],
   "source": [
    "# attention heads = 3, penal * 0.01\n",
    "classifier.eval()\n",
    "classifier(sentence, attention_method = AttentionViewer)\n",
    "classifier(sentence, attention_method = AttentionViewerOnWords)"
   ]
  },
  {
   "cell_type": "code",
   "execution_count": 36,
   "metadata": {},
   "outputs": [
    {
     "data": {
      "text/plain": [
       "92.47368421052632"
      ]
     },
     "execution_count": 36,
     "metadata": {},
     "output_type": "execute_result"
    }
   ],
   "source": [
    "classifier.eval()\n",
    "classifier.compute_accuracy(labelled_sentences_tst, batch_size = 16)"
   ]
  },
  {
   "cell_type": "markdown",
   "metadata": {},
   "source": [
    "#### Evaluation one head per class"
   ]
  },
  {
   "cell_type": "code",
   "execution_count": 26,
   "metadata": {
    "scrolled": true
   },
   "outputs": [
    {
     "data": {
      "text/plain": [
       "'Storage servers bruise HP earnings . update Earnings per share rise compared with a year'"
      ]
     },
     "execution_count": 26,
     "metadata": {},
     "output_type": "execute_result"
    }
   ],
   "source": [
    "sentence = 'Storage servers bruise HP earnings . update Earnings per share rise compared with a year'\n",
    "sentence"
   ]
  },
  {
   "cell_type": "code",
   "execution_count": 27,
   "metadata": {},
   "outputs": [
    {
     "data": {
      "image/png": "[encoded data removed]",
      "text/plain": [
       "<Figure size 432x288 with 1 Axes>"
      ]
     },
     "metadata": {
      "needs_background": "light"
     },
     "output_type": "display_data"
    },
    {
     "name": "stdout",
     "output_type": "stream",
     "text": [
      "\u001b[48;2;256;245;240mstorage\u001b[0m \u001b[48;2;256;245;240mservers\u001b[0m \u001b[48;2;256;245;240mbruise\u001b[0m \u001b[48;2;256;245;240mhp\u001b[0m \u001b[48;2;256;245;240mearnings\u001b[0m \u001b[48;2;256;245;240m.\u001b[0m \u001b[48;2;256;245;240mupdate\u001b[0m \u001b[48;2;256;245;240mearnings\u001b[0m \u001b[48;2;256;245;240mper\u001b[0m \u001b[48;2;256;245;240mshare\u001b[0m \u001b[48;2;256;245;240mrise\u001b[0m \u001b[48;2;256;245;240mcompared\u001b[0m \u001b[48;2;256;245;240mwith\u001b[0m \u001b[48;2;256;245;240ma\u001b[0m \u001b[48;2;256;245;240myear\u001b[0m  - class 1\n",
      "\u001b[48;2;256;245;240mstorage\u001b[0m \u001b[48;2;256;245;240mservers\u001b[0m \u001b[48;2;256;245;240mbruise\u001b[0m \u001b[48;2;256;245;240mhp\u001b[0m \u001b[48;2;256;245;240mearnings\u001b[0m \u001b[48;2;256;245;240m.\u001b[0m \u001b[48;2;256;245;240mupdate\u001b[0m \u001b[48;2;256;245;240mearnings\u001b[0m \u001b[48;2;256;245;240mper\u001b[0m \u001b[48;2;256;245;240mshare\u001b[0m \u001b[48;2;256;245;240mrise\u001b[0m \u001b[48;2;256;245;240mcompared\u001b[0m \u001b[48;2;256;245;240mwith\u001b[0m \u001b[48;2;256;245;240ma\u001b[0m \u001b[48;2;256;245;240myear\u001b[0m  - class 2\n",
      "\u001b[48;2;256;245;240mstorage\u001b[0m \u001b[48;2;256;245;240mservers\u001b[0m \u001b[48;2;256;245;240mbruise\u001b[0m \u001b[48;2;256;245;240mhp\u001b[0m \u001b[48;2;256;245;240mearnings\u001b[0m \u001b[48;2;256;245;240m.\u001b[0m \u001b[48;2;256;245;240mupdate\u001b[0m \u001b[48;2;256;245;240mearnings\u001b[0m \u001b[48;2;256;245;240mper\u001b[0m \u001b[48;2;256;245;240mshare\u001b[0m \u001b[48;2;256;245;240mrise\u001b[0m \u001b[48;2;256;245;240mcompared\u001b[0m \u001b[48;2;256;245;240mwith\u001b[0m \u001b[48;2;256;245;240ma\u001b[0m \u001b[48;2;256;245;240myear\u001b[0m  - class 3\n",
      "\u001b[48;2;256;245;240mstorage\u001b[0m \u001b[48;2;255;229;217mservers\u001b[0m \u001b[48;2;255;229;217mbruise\u001b[0m \u001b[48;2;255;229;217mhp\u001b[0m \u001b[48;2;256;245;240mearnings\u001b[0m \u001b[48;2;256;245;240m.\u001b[0m \u001b[48;2;256;245;240mupdate\u001b[0m \u001b[48;2;256;245;240mearnings\u001b[0m \u001b[48;2;256;245;240mper\u001b[0m \u001b[48;2;256;245;240mshare\u001b[0m \u001b[48;2;256;245;240mrise\u001b[0m \u001b[48;2;256;245;240mcompared\u001b[0m \u001b[48;2;256;245;240mwith\u001b[0m \u001b[48;2;256;245;240ma\u001b[0m \u001b[48;2;256;245;240myear\u001b[0m  - class 4\n",
      "\n"
     ]
    },
    {
     "data": {
      "text/plain": [
       "3"
      ]
     },
     "execution_count": 27,
     "metadata": {},
     "output_type": "execute_result"
    }
   ],
   "source": [
    "classifier.eval()\n",
    "classifier(sentence, attention_method = AttentionViewer)\n",
    "classifier(sentence, attention_method = AttentionViewerOnWords)"
   ]
  },
  {
   "cell_type": "code",
   "execution_count": 28,
   "metadata": {},
   "outputs": [
    {
     "data": {
      "text/plain": [
       "92.25"
      ]
     },
     "execution_count": 28,
     "metadata": {},
     "output_type": "execute_result"
    }
   ],
   "source": [
    "classifier.eval()\n",
    "classifier.compute_accuracy(labelled_sentences_tst, batch_size = 16)"
   ]
  }
 ],
 "metadata": {
  "kernelspec": {
   "display_name": "Python 3 (ipykernel)",
   "language": "python",
   "name": "python3"
  },
  "language_info": {
   "codemirror_mode": {
    "name": "ipython",
    "version": 3
   },
   "file_extension": ".py",
   "mimetype": "text/x-python",
   "name": "python",
   "nbconvert_exporter": "python",
   "pygments_lexer": "ipython3",
   "version": "3.8.13"
  }
 },
 "nbformat": 4,
 "nbformat_minor": 2
}
